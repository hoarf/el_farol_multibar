{
 "metadata": {
  "name": "",
  "signature": "sha256:76a12909161033035215a323d48a456b454f77cde68fbafe8df5f04810880ebb"
 },
 "nbformat": 3,
 "nbformat_minor": 0,
 "worksheets": []
}