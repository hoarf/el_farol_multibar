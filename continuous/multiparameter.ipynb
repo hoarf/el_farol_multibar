{
 "metadata": {
  "name": "",
  "signature": "sha256:ed6bb631175bb76ef6c755c6193c1283528666787e85b32c5fcf11c32b86a490"
 },
 "nbformat": 3,
 "nbformat_minor": 0,
 "worksheets": [
  {
   "cells": [
    {
     "cell_type": "code",
     "collapsed": false,
     "input": [
      "cd /vagrant_data/src/rl"
     ],
     "language": "python",
     "metadata": {},
     "outputs": [
      {
       "output_type": "stream",
       "stream": "stdout",
       "text": [
        "/vagrant_data/src/rl\n"
       ]
      }
     ],
     "prompt_number": 5
    },
    {
     "cell_type": "code",
     "collapsed": false,
     "input": [
      "!git log -n 1 --format=oneline -- wlu.py \n",
      "!git status -s wlu.py\n",
      "\n",
      "# for auto-reloading extenrnal modules\n",
      "# see http://stackoverflow.com/questions/1907993/autoreload-of-modules-in-ipython\n",
      "%load_ext autoreload\n",
      "%autoreload 2\n",
      "# Asserting the code version this was run\n",
      "from wlu import Experiment\n",
      "import pandas as pd"
     ],
     "language": "python",
     "metadata": {},
     "outputs": [
      {
       "output_type": "stream",
       "stream": "stdout",
       "text": [
        "\u001b[33m75f7b810919da16cd7b024df417945162d38f9dc\u001b[m Modifications during presentation\r\n"
       ]
      },
      {
       "output_type": "stream",
       "stream": "stdout",
       "text": [
        " \u001b[31mM\u001b[m wlu.py\r\n"
       ]
      },
      {
       "output_type": "stream",
       "stream": "stdout",
       "text": [
        "The autoreload extension is already loaded. To reload it, use:\n",
        "  %reload_ext autoreload\n"
       ]
      }
     ],
     "prompt_number": 95
    },
    {
     "cell_type": "markdown",
     "metadata": {},
     "source": [
      "## #2) multiparameters"
     ]
    },
    {
     "cell_type": "code",
     "collapsed": false,
     "input": [
      "na = 101\n",
      "ts = [[.3,.5],[.2,.1,.1,.3]]\n",
      "decay_ps = [(\"partial\",.5), (\"exponential\",.9), (None,.3), (None,.5)]\n",
      "alphas = [.2, .02]\n",
      "init_q_values = [\"rand\", \"zeros\"]\n",
      "nw = 5\n",
      "count = 0\n",
      "shape = len(ts)*len(decay_ps)*len(alphas)*len(init_q_values)\n",
      "atts = []\n",
      "wolr\n",
      "with open('attendances.log', 'a') as f:\n",
      "  for t in ts:\n",
      "    print \"t=%s\" % t\n",
      "    for d, p in decay_ps:\n",
      "      print \"decay=%s, p=%s\" % (d, p)\n",
      "      for a in alphas:\n",
      "        print \"alpha=%s\" % a\n",
      "        for i in init_q_values:\n",
      "          print \"init_q_value=%s\" % i\n",
      "\n",
      "          experiment = Experiment(nr_weeks = nw, thresholds=t, nr_agents=na,\n",
      "                       debug=False, use_wlu=False, alpha=a, p=p, decay=d, \n",
      "                       init_q_value=i, continuous=True)\n",
      "\n",
      "          attendances, world_utilities, agent_q_values, rewards, actions = experiment.run()\n",
      "          \n",
      "          atts.append(pd.DataFrame(attendances))\n",
      "          "
     ],
     "language": "python",
     "metadata": {},
     "outputs": [
      {
       "output_type": "stream",
       "stream": "stdout",
       "text": [
        "t=[0.3, 0.5]\n",
        "decay=partial, p=0.5\n",
        "alpha=0.2\n",
        "init_q_value=rand\n",
        " --- Running experiment ---\n",
        "init_q_value=zeros"
       ]
      },
      {
       "output_type": "stream",
       "stream": "stdout",
       "text": [
        "\n",
        " --- Running experiment ---\n",
        "alpha=0.02"
       ]
      },
      {
       "output_type": "stream",
       "stream": "stdout",
       "text": [
        "\n",
        "init_q_value=rand\n",
        " --- Running experiment ---\n",
        "init_q_value=zeros"
       ]
      },
      {
       "output_type": "stream",
       "stream": "stdout",
       "text": [
        "\n",
        " --- Running experiment ---\n",
        "decay=exponential, p=0.9"
       ]
      },
      {
       "output_type": "stream",
       "stream": "stdout",
       "text": [
        "\n",
        "alpha=0.2\n",
        "init_q_value=rand\n",
        " --- Running experiment ---\n",
        "init_q_value=zeros"
       ]
      },
      {
       "output_type": "stream",
       "stream": "stdout",
       "text": [
        "\n",
        " --- Running experiment ---\n",
        "alpha=0.02"
       ]
      },
      {
       "output_type": "stream",
       "stream": "stdout",
       "text": [
        "\n",
        "init_q_value=rand\n",
        " --- Running experiment ---\n",
        "init_q_value=zeros"
       ]
      },
      {
       "output_type": "stream",
       "stream": "stdout",
       "text": [
        "\n",
        " --- Running experiment ---\n",
        "decay=None, p=0.3"
       ]
      },
      {
       "output_type": "stream",
       "stream": "stdout",
       "text": [
        "\n",
        "alpha=0.2\n",
        "init_q_value=rand\n",
        " --- Running experiment ---\n",
        "init_q_value=zeros"
       ]
      },
      {
       "output_type": "stream",
       "stream": "stdout",
       "text": [
        "\n",
        " --- Running experiment ---\n",
        "alpha=0.02"
       ]
      },
      {
       "output_type": "stream",
       "stream": "stdout",
       "text": [
        "\n",
        "init_q_value=rand\n",
        " --- Running experiment ---\n",
        "init_q_value=zeros"
       ]
      },
      {
       "output_type": "stream",
       "stream": "stdout",
       "text": [
        "\n",
        " --- Running experiment ---\n",
        "decay=None, p=0.5"
       ]
      },
      {
       "output_type": "stream",
       "stream": "stdout",
       "text": [
        "\n",
        "alpha=0.2\n",
        "init_q_value=rand\n",
        " --- Running experiment ---\n",
        "init_q_value=zeros"
       ]
      },
      {
       "output_type": "stream",
       "stream": "stdout",
       "text": [
        "\n",
        " --- Running experiment ---\n",
        "alpha=0.02"
       ]
      },
      {
       "output_type": "stream",
       "stream": "stdout",
       "text": [
        "\n",
        "init_q_value=rand\n",
        " --- Running experiment ---\n",
        "init_q_value=zeros"
       ]
      },
      {
       "output_type": "stream",
       "stream": "stdout",
       "text": [
        "\n",
        " --- Running experiment ---\n",
        "t=[0.2, 0.1, 0.1, 0.3]"
       ]
      },
      {
       "output_type": "stream",
       "stream": "stdout",
       "text": [
        "\n",
        "decay=partial, p=0.5\n",
        "alpha=0.2\n",
        "init_q_value=rand\n",
        " --- Running experiment ---\n",
        "init_q_value=zeros"
       ]
      },
      {
       "output_type": "stream",
       "stream": "stdout",
       "text": [
        "\n",
        " --- Running experiment ---\n",
        "alpha=0.02"
       ]
      },
      {
       "output_type": "stream",
       "stream": "stdout",
       "text": [
        "\n",
        "init_q_value=rand\n",
        " --- Running experiment ---\n",
        "init_q_value=zeros"
       ]
      },
      {
       "output_type": "stream",
       "stream": "stdout",
       "text": [
        "\n",
        " --- Running experiment ---\n",
        "decay=exponential, p=0.9"
       ]
      },
      {
       "output_type": "stream",
       "stream": "stdout",
       "text": [
        "\n",
        "alpha=0.2\n",
        "init_q_value=rand\n",
        " --- Running experiment ---\n",
        "init_q_value=zeros"
       ]
      },
      {
       "output_type": "stream",
       "stream": "stdout",
       "text": [
        "\n",
        " --- Running experiment ---\n",
        "alpha=0.02"
       ]
      },
      {
       "output_type": "stream",
       "stream": "stdout",
       "text": [
        "\n",
        "init_q_value=rand\n",
        " --- Running experiment ---\n",
        "init_q_value=zeros"
       ]
      },
      {
       "output_type": "stream",
       "stream": "stdout",
       "text": [
        "\n",
        " --- Running experiment ---\n",
        "decay=None, p=0.3"
       ]
      },
      {
       "output_type": "stream",
       "stream": "stdout",
       "text": [
        "\n",
        "alpha=0.2\n",
        "init_q_value=rand\n",
        " --- Running experiment ---\n",
        "init_q_value=zeros"
       ]
      },
      {
       "output_type": "stream",
       "stream": "stdout",
       "text": [
        "\n",
        " --- Running experiment ---\n",
        "alpha=0.02"
       ]
      },
      {
       "output_type": "stream",
       "stream": "stdout",
       "text": [
        "\n",
        "init_q_value=rand\n",
        " --- Running experiment ---\n",
        "init_q_value=zeros"
       ]
      },
      {
       "output_type": "stream",
       "stream": "stdout",
       "text": [
        "\n",
        " --- Running experiment ---\n",
        "decay=None, p=0.5"
       ]
      },
      {
       "output_type": "stream",
       "stream": "stdout",
       "text": [
        "\n",
        "alpha=0.2\n",
        "init_q_value=rand\n",
        " --- Running experiment ---\n",
        "init_q_value=zeros"
       ]
      },
      {
       "output_type": "stream",
       "stream": "stdout",
       "text": [
        "\n",
        " --- Running experiment ---\n",
        "alpha=0.02"
       ]
      },
      {
       "output_type": "stream",
       "stream": "stdout",
       "text": [
        "\n",
        "init_q_value=rand\n",
        " --- Running experiment ---\n",
        "init_q_value=zeros"
       ]
      },
      {
       "output_type": "stream",
       "stream": "stdout",
       "text": [
        "\n",
        " --- Running experiment ---\n"
       ]
      }
     ],
     "prompt_number": 96
    },
    {
     "cell_type": "code",
     "collapsed": false,
     "input": [
      "atts[3].head"
     ],
     "language": "python",
     "metadata": {},
     "outputs": [
      {
       "metadata": {},
       "output_type": "pyout",
       "prompt_number": 108,
       "text": [
        "<bound method DataFrame.head of           0         1         2         3         4\n",
        "0  0.326733  0.198020  0.316832  0.118812  0.069307\n",
        "1  0.336634  0.346535  0.168317  0.237624  0.306931\n",
        "2  0.336634  0.455446  0.514851  0.643564  0.623762>"
       ]
      }
     ],
     "prompt_number": 108
    },
    {
     "cell_type": "code",
     "collapsed": false,
     "input": [
      "len(atts)"
     ],
     "language": "python",
     "metadata": {},
     "outputs": [
      {
       "metadata": {},
       "output_type": "pyout",
       "prompt_number": 99,
       "text": [
        "32"
       ]
      }
     ],
     "prompt_number": 99
    },
    {
     "cell_type": "code",
     "collapsed": false,
     "input": [
      "import pandas as pd"
     ],
     "language": "python",
     "metadata": {},
     "outputs": [],
     "prompt_number": 1
    },
    {
     "cell_type": "code",
     "collapsed": false,
     "input": [
      "a = pd.DataFrame()\n",
      "a.to_pickle('test.csv')"
     ],
     "language": "python",
     "metadata": {},
     "outputs": [],
     "prompt_number": 10
    },
    {
     "cell_type": "code",
     "collapsed": false,
     "input": [
      "np.savetxt?"
     ],
     "language": "python",
     "metadata": {},
     "outputs": [],
     "prompt_number": 12
    },
    {
     "cell_type": "code",
     "collapsed": false,
     "input": [],
     "language": "python",
     "metadata": {},
     "outputs": []
    }
   ],
   "metadata": {}
  }
 ]
}