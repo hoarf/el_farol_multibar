{
 "metadata": {
  "name": "",
  "signature": "sha256:a875cb142d52e6a2682db1415b28e1e918bdd8e0c121ee6d6001f4def3519a55"
 },
 "nbformat": 3,
 "nbformat_minor": 0,
 "worksheets": [
  {
   "cells": [
    {
     "cell_type": "code",
     "collapsed": false,
     "input": [
      "import numpy as np"
     ],
     "language": "python",
     "metadata": {},
     "outputs": [],
     "prompt_number": 2
    },
    {
     "cell_type": "code",
     "collapsed": false,
     "input": [
      "TRANSITION_PROBABILY = np.zeros((3,4,3,4))\n",
      "TRANSITION_PROBABILY[0,0,0,1] = .5\n",
      "TRANSITION_PROBABILY[0,1,0,2] = .5\n",
      "TRANSITION_PROBABILY[0,2,0,3] = .33\n",
      "TRANSITION_PROBABILY[0,3,0,2] = .5\n",
      "TRANSITION_PROBABILY[0,2,0,1] = .33\n",
      "TRANSITION_PROBABILY[0,1,0,0] = .5\n",
      "\n",
      "TRANSITION_PROBABILY[0,0,1,0] = .5\n",
      "TRANSITION_PROBABILY[1,0,2,0] = .5\n",
      "TRANSITION_PROBABILY[2,0,1,0] = .5\n",
      "TRANSITION_PROBABILY[1,0,0,0] = .5\n",
      "\n",
      "TRANSITION_PROBABILY[0,2,1,2] = .33\n",
      "TRANSITION_PROBABILY[1,2,2,2] = .33\n",
      "TRANSITION_PROBABILY[2,2,1,2] = .33\n",
      "TRANSITION_PROBABILY[1,2,0,2] = .33\n",
      "\n",
      "TRANSITION_PROBABILY[2,0,2,1] = .5\n",
      "TRANSITION_PROBABILY[2,1,2,2] = .5\n",
      "TRANSITION_PROBABILY[2,2,2,3] = .33\n",
      "TRANSITION_PROBABILY[2,3,2,3] = 1\n",
      "TRANSITION_PROBABILY[2,2,2,1] = .33\n",
      "TRANSITION_PROBABILY[2,1,2,0] = .5\n",
      "\n",
      "TRANSITION_PROBABILY[0,3,1,3] = .5\n",
      "\n",
      "TRANSITION_PROBABILY[1,3,1,3] = 1"
     ],
     "language": "python",
     "metadata": {},
     "outputs": [],
     "prompt_number": 66
    },
    {
     "cell_type": "code",
     "collapsed": true,
     "input": [
      "REWARDS = np.array([\n",
      "  [ -0.0380, 0.0886, 0.2152, 1.0 ],\n",
      "  [ -0.1646, None, -0.4430, -1.0 ],\n",
      "  [ -0.2911, -0.4177, -0.5443, 0.7722 ]])"
     ],
     "language": "python",
     "metadata": {},
     "outputs": [],
     "prompt_number": 67
    },
    {
     "cell_type": "code",
     "collapsed": false,
     "input": [
      "START_PERCEPT = {\n",
      "  'state': (0,0),\n",
      "  'reward': REWARDS[0][0],\n",
      "  'terminal': False\n",
      "}\n",
      "\n",
      "# Optimistic reward estimation\n",
      "R_PLUS = 2\n",
      "\n",
      "# At least how many times each state should be tried\n",
      "N_E = 5"
     ],
     "language": "python",
     "metadata": {},
     "outputs": [],
     "prompt_number": 89
    },
    {
     "cell_type": "code",
     "collapsed": false,
     "input": [
      "# A table containing the action-value pairs\n",
      "Q = np.zeros((3,4,3,4))\n",
      "\n",
      "# A table containing the state-action pairs\n",
      "N = np.zeros((3,4,3,4))\n",
      "\n",
      "# Last action taken\n",
      "a = None\n",
      "\n",
      "# Previous state\n",
      "i = None\n",
      "\n",
      "# Previous state's reward\n",
      "r = None\n",
      "\n",
      "current_percept = START_PERCEPT\n",
      "\n",
      "# The exploratory function written in the literature\n",
      "def exploratory_fuction(u, n):\n",
      "    return R_PLUS if n < N_E else u\n",
      "\n",
      "def choose_action(j):\n",
      "    global Q, N\n",
      "    expected_utility = Q[j] * N[j]\n",
      "    expected_utility[TRANSITION_PROBABILY[j] == 0] = 0\n",
      "    expected_utility[TRANSITION_PROBABILY[j] != 0] += 10\n",
      "    best_action = np.unravel_index(np.argmax(expected_utility),expected_utility.shape)\n",
      "    return best_action\n",
      "\n",
      "def Q_learn_agent(percept):\n",
      "    global i, a, r, Q, N\n",
      "    j = percept['state']\n",
      "    if i:\n",
      "        N[a,i] += 1\n",
      "        Q[a,i] = Q[a,i] + r + np.max(Q[j]) + Q[a,i]\n",
      "    if percept['terminal']:\n",
      "        i = None\n",
      "    else:\n",
      "        i = j\n",
      "        r = percept['reward']\n",
      "    a = choose_action(j)\n",
      "    print a\n",
      "    return a\n",
      "\n",
      "def new_percept(new_action):\n",
      "    items = [(0,0),(0,1),(0,2),(0,3),(1,0),(1,1),(1,2),(1,3),(2,0),(2,1),(2,2),(2,3)]\n",
      "    prob = [x for x in TRANSITION_PROBABILY[new_action].flat]\n",
      "    print items\n",
      "    print prob\n",
      "    state = items[np.random.choice(12, 1, p=prob)]\n",
      "    terminal = state == (0,3) or state == (1,3)\n",
      "    p = { 'state': state, 'terminal': terminal, 'reward': REWARDS[state[0]][state[1]]  }\n",
      "    return p\n",
      "        \n",
      "def learn(nepochs=300):\n",
      "    global current_percept\n",
      "    for epoch in xrange(1,nepochs):\n",
      "       print current_percept\n",
      "       new_action = Q_learn_agent(current_percept)\n",
      "       np = new_percept(new_action)\n",
      "       current_percept = np\n",
      "       print np\n",
      "\n",
      "        \n",
      "def __init__():  \n",
      "    learn(nepochs=3)"
     ],
     "language": "python",
     "metadata": {},
     "outputs": [],
     "prompt_number": 216
    },
    {
     "cell_type": "code",
     "collapsed": false,
     "input": [
      "__init__()"
     ],
     "language": "python",
     "metadata": {},
     "outputs": [
      {
       "output_type": "stream",
       "stream": "stdout",
       "text": [
        "{'terminal': False, 'state': (0, 0), 'reward': -0.038}\n",
        "(0, 1)\n",
        "[(0, 0), (0, 1), (0, 2), (0, 3), (1, 0), (1, 1), (1, 2), (1, 3), (2, 0), (2, 1), (2, 2), (2, 3)]\n",
        "[0.5, 0.0, 0.5, 0.0, 0.0, 0.0, 0.0, 0.0, 0.0, 0.0, 0.0, 0.0]\n",
        "{'terminal': False, 'state': (0, 2), 'reward': 0.2152}\n",
        "{'terminal': False, 'state': (0, 2), 'reward': 0.2152}\n",
        "(0, 1)\n",
        "[(0, 0), (0, 1), (0, 2), (0, 3), (1, 0), (1, 1), (1, 2), (1, 3), (2, 0), (2, 1), (2, 2), (2, 3)]\n",
        "[0.5, 0.0, 0.5, 0.0, 0.0, 0.0, 0.0, 0.0, 0.0, 0.0, 0.0, 0.0]\n",
        "{'terminal': False, 'state': (0, 2), 'reward': 0.2152}\n"
       ]
      }
     ],
     "prompt_number": 217
    },
    {
     "cell_type": "code",
     "collapsed": false,
     "input": [],
     "language": "python",
     "metadata": {},
     "outputs": [],
     "prompt_number": 169
    },
    {
     "cell_type": "code",
     "collapsed": false,
     "input": [],
     "language": "python",
     "metadata": {},
     "outputs": []
    }
   ],
   "metadata": {}
  }
 ]
}