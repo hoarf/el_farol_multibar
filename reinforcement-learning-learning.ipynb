{
 "metadata": {
  "name": "",
  "signature": "sha256:92dc85923d6d92a8c1dfd1691ecf1396bec4e78a12029ff9c2fb0ce975ed3737"
 },
 "nbformat": 3,
 "nbformat_minor": 0,
 "worksheets": [
  {
   "cells": [
    {
     "cell_type": "code",
     "collapsed": false,
     "input": [
      "import numpy as np\n",
      "import pandas as pd"
     ],
     "language": "python",
     "metadata": {},
     "outputs": [],
     "prompt_number": 1
    },
    {
     "cell_type": "markdown",
     "metadata": {},
     "source": [
      "## Notation"
     ]
    },
    {
     "cell_type": "markdown",
     "metadata": {},
     "source": [
      "'The Book': This refers to the book: Russell, Stuart, and Peter Norvig. \"Artificial intelligence: a modern approach.\" (1995).\n",
      "\n",
      "State: State here is read as the index of a matrix. For instance in the Q matrix the position Q[0,1] corresponds to all the Q-values associated wit the state (0,1) for any given action. **Note that all the index here are 0-based as opposed to 1-based index in the book, also the book uses the notation (column, line) witch is confusing IMO so here (in the environ files) i'm using (line, column)**\n",
      "\n",
      "Action: This is one of the four possible choices for the agent at any given state, namely: LEFT, TOP, RIGHT, BOTTOM that will be represented in the algorith by the index 0, 1, 2 and 3 respectivelly "
     ]
    },
    {
     "cell_type": "markdown",
     "metadata": {},
     "source": [
      "## Reads the environment data"
     ]
    },
    {
     "cell_type": "code",
     "collapsed": true,
     "input": [
      "# The reward of the environment. For this experiment is either -0.04 for any valid non terminal \n",
      "# state and -1 and 1 for the terminal ones.\n",
      "rewards = pd.read_csv('/vagrant_data/src/reinforcement-learning-practice/rewards.csv', index_col=[0,1])\n",
      "\n",
      "# Basically is a list of valid actions. Don't really need to be file but.. meh, I prefer using my \n",
      "# regular text editor to edit large chunks of data\n",
      "q_values = pd.read_csv('/vagrant_data/src/reinforcement-learning-practice/q_values.csv', index_col=[0,1,2])\n",
      "\n",
      "# This is the expected utility written in the book, achived by faries\n",
      "utility = pd.read_csv('/vagrant_data/src/reinforcement-learning-practice/utility_values.csv', index_col=[0,1])"
     ],
     "language": "python",
     "metadata": {},
     "outputs": [],
     "prompt_number": 2
    },
    {
     "cell_type": "markdown",
     "metadata": {},
     "source": [
      "## Model parameters"
     ]
    },
    {
     "cell_type": "code",
     "collapsed": false,
     "input": [
      "# A percept represents an environment stimulus\n",
      "START_PERCEPT = {\n",
      "  'state': (0,0),\n",
      "  'reward': rewards.ix[0,0]['reward'],\n",
      "  'terminal': False\n",
      "}\n",
      "\n",
      "# Optimistic reward estimation\n",
      "R_PLUS = 2\n",
      "\n",
      "# At least how many times each state should be tried\n",
      "N_E = 5\n",
      "\n",
      "# Learning rate\n",
      "# 'n' is how many times that particular state-action pair have been tried\n",
      "def ALPHA(n):\n",
      "  return 1.0/n"
     ],
     "language": "python",
     "metadata": {},
     "outputs": [],
     "prompt_number": 3
    },
    {
     "cell_type": "markdown",
     "metadata": {},
     "source": [
      "## A few helper functions"
     ]
    },
    {
     "cell_type": "code",
     "collapsed": false,
     "input": [
      "# F: State, Action -> State\n",
      "# Calculates the next state based on the previous state plus the action\n",
      "def calculate_new_state_based_on_action(state, action):\n",
      "  state = (state[0]  , state[1]-1) if action[0] == 0 else state\n",
      "  state = (state[0]+1, state[1]  ) if action[0] == 1 else state\n",
      "  state = (state[0]  , state[1]+1) if action[0] == 2 else state\n",
      "  state = (state[0]-1, state[1]  ) if action[0] == 3 else state\n",
      "  return state\n",
      "\n",
      "# PICS OR DIDNT HAPPN\n",
      "pretty_action = {\n",
      "  0: '<-',\n",
      "  1: '^',\n",
      "  2: '->',\n",
      "  3: 'V',\n",
      "  4: 'NONE'\n",
      "}    "
     ],
     "language": "python",
     "metadata": {},
     "outputs": [],
     "prompt_number": 4
    },
    {
     "cell_type": "markdown",
     "metadata": {},
     "source": [
      "## Initializations"
     ]
    },
    {
     "cell_type": "code",
     "collapsed": false,
     "input": [
      "# A table containing the action-value pairs\n",
      "# Domain is State-index0 x State-index1 x Action\n",
      "Q = q_values.copy()\n",
      "\n",
      "# A table containing the state-action pairs\n",
      "# Domain is State-index0 x State-index1 x Action\n",
      "N = q_values.copy()\n",
      "\n",
      "# Last action taken\n",
      "a = None\n",
      "\n",
      "# Previous state\n",
      "i = None\n",
      "\n",
      "# Previous state's reward\n",
      "r = None\n",
      "\n",
      "# 'SOMETHING SOMETHING MADNESS SOMETHING SOMETHING DIFFERENT RESULTS' - Einstein\n",
      "np.random.seed = 100"
     ],
     "language": "python",
     "metadata": {},
     "outputs": [],
     "prompt_number": 5
    },
    {
     "cell_type": "markdown",
     "metadata": {},
     "source": [
      "# The main thing"
     ]
    },
    {
     "cell_type": "code",
     "collapsed": false,
     "input": [
      "# This is the main algorithm that decides the new action for the agent for a given percept\n",
      "def Q_learn_agent(percept):\n",
      "  global i, a, r, Q, N\n",
      "  j = percept['state']\n",
      "  if percept['terminal']:\n",
      "    Q.ix[i].ix[4] = percept['reward'] \n",
      "  if i:\n",
      "    N.ix[i].ix[a] += 1\n",
      "    Q.ix[i].ix[a] = Q.ix[i].ix[a] + ALPHA(N.ix[i].ix[a])*(r + np.max(Q.ix[j]) - Q.ix[i].ix[a])    \n",
      "  i = j\n",
      "  r = percept['reward']\n",
      "  a = choose_action(j)\n",
      "  return a\n",
      "\n",
      "# The exploratory function written in the literature, it decides wheter or not we already \n",
      "# explored enough and are ready to be greedy\n",
      "def exploratory_fuction(u, n):\n",
      "  return R_PLUS if n < N_E else u\n",
      "\n",
      "# This makes our exploratory function accept a vector instead of a scalar\n",
      "v_exploratory_function = np.vectorize(exploratory_fuction)\n",
      "\n",
      "# At state: 'j' choses something to do.\n",
      "def choose_action(j):\n",
      "  exploration_corrected_q_value = v_exploratory_function(Q.ix[j], N.ix[j])    \n",
      "  # This returns an array with True as value if the position in the array is maximum. \n",
      "  # Ex: [False True True False False] for the utilities: [ 0 2 2 1 .5 ]\n",
      "  all_max_mask = exploration_corrected_q_value == np.max(exploration_corrected_q_value)     \n",
      "  # This maps the previous array to the relative frequency of True values. Basicaly I'm giving equal probabability of \n",
      "  # being randomly chosen for each max value on the utility array, I.E Choose one of the best actions randomly\n",
      "  action_frequencies = map(lambda x: 1.0/np.count_nonzero(all_max_mask) if x else 0, all_max_mask)\n",
      "  # This choses an action represented by the range(0,5) given the probabilities set previously.   \n",
      "  chosen_action = np.random.choice(Q.ix[j].index.values, 1, p=action_frequencies)  \n",
      "  return chosen_action\n",
      "\n",
      "# This is the environment deciding what feedback to give to the agent\n",
      "def new_percept(new_action):\n",
      "  new_state = calculate_new_state_based_on_action(i, new_action)\n",
      "  return {\n",
      "    'state': new_state,\n",
      "    'reward': rewards.ix[new_state]['reward'],\n",
      "    'terminal': new_state == (1,3) or new_state == (2,3)\n",
      "  }\n",
      "\n",
      "# This is where the whole process start\n",
      "def learn(nepochs=300):\n",
      "  global start_state_utility\n",
      "  for epoch in xrange(1,nepochs):\n",
      "    print \"try %s\" % epoch\n",
      "    current_percept = START_PERCEPT\n",
      "    while True:\n",
      "      new_action = Q_learn_agent(current_percept)\n",
      "      print pretty_action[new_action[0]],\n",
      "      if new_action == 4: break # means we reached a terminal state, let's start over a new epoch\n",
      "      np = new_percept(new_action)\n",
      "      current_percept = np   \n",
      "  print(\"Done. Everything Now.\")"
     ],
     "language": "python",
     "metadata": {},
     "outputs": [],
     "prompt_number": 6
    },
    {
     "cell_type": "markdown",
     "metadata": {},
     "source": [
      "# Results"
     ]
    },
    {
     "cell_type": "code",
     "collapsed": false,
     "input": [
      "nepoch = 50\n",
      "learn()"
     ],
     "language": "python",
     "metadata": {},
     "outputs": [
      {
       "output_type": "stream",
       "stream": "stdout",
       "text": [
        "try 1\n",
        "^ "
       ]
      },
      {
       "output_type": "stream",
       "stream": "stdout",
       "text": [
        "^ "
       ]
      },
      {
       "output_type": "stream",
       "stream": "stdout",
       "text": [
        "-> "
       ]
      },
      {
       "output_type": "stream",
       "stream": "stdout",
       "text": [
        "<- V "
       ]
      },
      {
       "output_type": "stream",
       "stream": "stdout",
       "text": [
        "V -> "
       ]
      },
      {
       "output_type": "stream",
       "stream": "stdout",
       "text": [
        "-> -> "
       ]
      },
      {
       "output_type": "stream",
       "stream": "stdout",
       "text": [
        "^ NONE try 2\n",
        "^"
       ]
      },
      {
       "output_type": "stream",
       "stream": "stdout",
       "text": [
        " V ^ "
       ]
      },
      {
       "output_type": "stream",
       "stream": "stdout",
       "text": [
        "^ V "
       ]
      },
      {
       "output_type": "stream",
       "stream": "stdout",
       "text": [
        "V -> "
       ]
      },
      {
       "output_type": "stream",
       "stream": "stdout",
       "text": [
        "<- -> "
       ]
      },
      {
       "output_type": "stream",
       "stream": "stdout",
       "text": [
        "<- -> "
       ]
      },
      {
       "output_type": "stream",
       "stream": "stdout",
       "text": [
        "-> ^ "
       ]
      },
      {
       "output_type": "stream",
       "stream": "stdout",
       "text": [
        "-> NONE try 3\n",
        "->"
       ]
      },
      {
       "output_type": "stream",
       "stream": "stdout",
       "text": [
        " <- ^ "
       ]
      },
      {
       "output_type": "stream",
       "stream": "stdout",
       "text": [
        "V ^ "
       ]
      },
      {
       "output_type": "stream",
       "stream": "stdout",
       "text": [
        "V -> "
       ]
      },
      {
       "output_type": "stream",
       "stream": "stdout",
       "text": [
        "-> -> "
       ]
      },
      {
       "output_type": "stream",
       "stream": "stdout",
       "text": [
        "<- ^ "
       ]
      },
      {
       "output_type": "stream",
       "stream": "stdout",
       "text": [
        "-> NONE try 4\n",
        "->"
       ]
      },
      {
       "output_type": "stream",
       "stream": "stdout",
       "text": [
        " -> <- "
       ]
      },
      {
       "output_type": "stream",
       "stream": "stdout",
       "text": [
        "-> -> "
       ]
      },
      {
       "output_type": "stream",
       "stream": "stdout",
       "text": [
        "<- -> "
       ]
      },
      {
       "output_type": "stream",
       "stream": "stdout",
       "text": [
        "<- -> "
       ]
      },
      {
       "output_type": "stream",
       "stream": "stdout",
       "text": [
        "<- ^ "
       ]
      },
      {
       "output_type": "stream",
       "stream": "stdout",
       "text": [
        "-> "
       ]
      },
      {
       "output_type": "stream",
       "stream": "stdout",
       "text": [
        "NONE try 5\n",
        "->"
       ]
      },
      {
       "output_type": "stream",
       "stream": "stdout",
       "text": [
        " <- "
       ]
      },
      {
       "output_type": "stream",
       "stream": "stdout",
       "text": [
        "-> "
       ]
      },
      {
       "output_type": "stream",
       "stream": "stdout",
       "text": [
        "<- "
       ]
      },
      {
       "output_type": "stream",
       "stream": "stdout",
       "text": [
        "-> "
       ]
      },
      {
       "output_type": "stream",
       "stream": "stdout",
       "text": [
        "-> "
       ]
      },
      {
       "output_type": "stream",
       "stream": "stdout",
       "text": [
        "<- -> "
       ]
      },
      {
       "output_type": "stream",
       "stream": "stdout",
       "text": [
        "^ -> "
       ]
      },
      {
       "output_type": "stream",
       "stream": "stdout",
       "text": [
        "NONE try 6\n",
        "-> "
       ]
      },
      {
       "output_type": "stream",
       "stream": "stdout",
       "text": [
        "-> <- "
       ]
      },
      {
       "output_type": "stream",
       "stream": "stdout",
       "text": [
        "-> <- "
       ]
      },
      {
       "output_type": "stream",
       "stream": "stdout",
       "text": [
        "-> "
       ]
      },
      {
       "output_type": "stream",
       "stream": "stdout",
       "text": [
        "^ "
       ]
      },
      {
       "output_type": "stream",
       "stream": "stdout",
       "text": [
        "-> "
       ]
      },
      {
       "output_type": "stream",
       "stream": "stdout",
       "text": [
        "NONE try 7\n",
        "->"
       ]
      },
      {
       "output_type": "stream",
       "stream": "stdout",
       "text": [
        " -> "
       ]
      },
      {
       "output_type": "stream",
       "stream": "stdout",
       "text": [
        "<- -> "
       ]
      },
      {
       "output_type": "stream",
       "stream": "stdout",
       "text": [
        "^ V "
       ]
      },
      {
       "output_type": "stream",
       "stream": "stdout",
       "text": [
        "^ ^ "
       ]
      },
      {
       "output_type": "stream",
       "stream": "stdout",
       "text": [
        "<- <- "
       ]
      },
      {
       "output_type": "stream",
       "stream": "stdout",
       "text": [
        "V ^ "
       ]
      },
      {
       "output_type": "stream",
       "stream": "stdout",
       "text": [
        "V "
       ]
      },
      {
       "output_type": "stream",
       "stream": "stdout",
       "text": [
        "^ "
       ]
      },
      {
       "output_type": "stream",
       "stream": "stdout",
       "text": [
        "-> "
       ]
      },
      {
       "output_type": "stream",
       "stream": "stdout",
       "text": [
        "-> "
       ]
      },
      {
       "output_type": "stream",
       "stream": "stdout",
       "text": [
        "V "
       ]
      },
      {
       "output_type": "stream",
       "stream": "stdout",
       "text": [
        "V "
       ]
      },
      {
       "output_type": "stream",
       "stream": "stdout",
       "text": [
        "^ "
       ]
      },
      {
       "output_type": "stream",
       "stream": "stdout",
       "text": [
        "V "
       ]
      },
      {
       "output_type": "stream",
       "stream": "stdout",
       "text": [
        "^ V "
       ]
      },
      {
       "output_type": "stream",
       "stream": "stdout",
       "text": [
        "^ V "
       ]
      },
      {
       "output_type": "stream",
       "stream": "stdout",
       "text": [
        "^ ^ "
       ]
      },
      {
       "output_type": "stream",
       "stream": "stdout",
       "text": [
        "<- <- "
       ]
      },
      {
       "output_type": "stream",
       "stream": "stdout",
       "text": [
        "V ^ "
       ]
      },
      {
       "output_type": "stream",
       "stream": "stdout",
       "text": [
        "-> -> "
       ]
      },
      {
       "output_type": "stream",
       "stream": "stdout",
       "text": [
        "-> NONE try 8\n",
        "->"
       ]
      },
      {
       "output_type": "stream",
       "stream": "stdout",
       "text": [
        " -> ^ "
       ]
      },
      {
       "output_type": "stream",
       "stream": "stdout",
       "text": [
        "^ V "
       ]
      },
      {
       "output_type": "stream",
       "stream": "stdout",
       "text": [
        "^ <- "
       ]
      },
      {
       "output_type": "stream",
       "stream": "stdout",
       "text": [
        "-> V "
       ]
      },
      {
       "output_type": "stream",
       "stream": "stdout",
       "text": [
        "^ V "
       ]
      },
      {
       "output_type": "stream",
       "stream": "stdout",
       "text": [
        "^ -> "
       ]
      },
      {
       "output_type": "stream",
       "stream": "stdout",
       "text": [
        "NONE try 9\n",
        "^ "
       ]
      },
      {
       "output_type": "stream",
       "stream": "stdout",
       "text": [
        "^ -> "
       ]
      },
      {
       "output_type": "stream",
       "stream": "stdout",
       "text": [
        "<- -> "
       ]
      },
      {
       "output_type": "stream",
       "stream": "stdout",
       "text": [
        "<- -> "
       ]
      },
      {
       "output_type": "stream",
       "stream": "stdout",
       "text": [
        "-> -> "
       ]
      },
      {
       "output_type": "stream",
       "stream": "stdout",
       "text": [
        "NONE try 10\n",
        "-> "
       ]
      },
      {
       "output_type": "stream",
       "stream": "stdout",
       "text": [
        "-> ^ "
       ]
      },
      {
       "output_type": "stream",
       "stream": "stdout",
       "text": [
        "^ V "
       ]
      },
      {
       "output_type": "stream",
       "stream": "stdout",
       "text": [
        "^ <- "
       ]
      },
      {
       "output_type": "stream",
       "stream": "stdout",
       "text": [
        "-> -> "
       ]
      },
      {
       "output_type": "stream",
       "stream": "stdout",
       "text": [
        "NONE try 11\n",
        "-> "
       ]
      },
      {
       "output_type": "stream",
       "stream": "stdout",
       "text": [
        "-> ^ "
       ]
      },
      {
       "output_type": "stream",
       "stream": "stdout",
       "text": [
        "^ <- "
       ]
      },
      {
       "output_type": "stream",
       "stream": "stdout",
       "text": [
        "-> -> "
       ]
      },
      {
       "output_type": "stream",
       "stream": "stdout",
       "text": [
        "NONE try 12\n",
        "-> "
       ]
      },
      {
       "output_type": "stream",
       "stream": "stdout",
       "text": [
        "-> ^ "
       ]
      },
      {
       "output_type": "stream",
       "stream": "stdout",
       "text": [
        "^ -> "
       ]
      },
      {
       "output_type": "stream",
       "stream": "stdout",
       "text": [
        "NONE try 13\n",
        "^ "
       ]
      },
      {
       "output_type": "stream",
       "stream": "stdout",
       "text": [
        "^ ->"
       ]
      },
      {
       "output_type": "stream",
       "stream": "stdout",
       "text": [
        " -> -> "
       ]
      },
      {
       "output_type": "stream",
       "stream": "stdout",
       "text": [
        "NONE try 14\n",
        "-> "
       ]
      },
      {
       "output_type": "stream",
       "stream": "stdout",
       "text": [
        "-> "
       ]
      },
      {
       "output_type": "stream",
       "stream": "stdout",
       "text": [
        "^ ^ "
       ]
      },
      {
       "output_type": "stream",
       "stream": "stdout",
       "text": [
        "-> NONE try 15\n",
        "->"
       ]
      },
      {
       "output_type": "stream",
       "stream": "stdout",
       "text": [
        " -> ^ "
       ]
      },
      {
       "output_type": "stream",
       "stream": "stdout",
       "text": [
        "^ "
       ]
      },
      {
       "output_type": "stream",
       "stream": "stdout",
       "text": [
        "-> "
       ]
      },
      {
       "output_type": "stream",
       "stream": "stdout",
       "text": [
        "NONE try 16\n",
        "-> "
       ]
      },
      {
       "output_type": "stream",
       "stream": "stdout",
       "text": [
        "-> "
       ]
      },
      {
       "output_type": "stream",
       "stream": "stdout",
       "text": [
        "^ "
       ]
      },
      {
       "output_type": "stream",
       "stream": "stdout",
       "text": [
        "^ -> "
       ]
      },
      {
       "output_type": "stream",
       "stream": "stdout",
       "text": [
        "NONE try 17\n",
        "^"
       ]
      },
      {
       "output_type": "stream",
       "stream": "stdout",
       "text": [
        " ^ -> "
       ]
      },
      {
       "output_type": "stream",
       "stream": "stdout",
       "text": [
        "-> "
       ]
      },
      {
       "output_type": "stream",
       "stream": "stdout",
       "text": [
        "-> "
       ]
      },
      {
       "output_type": "stream",
       "stream": "stdout",
       "text": [
        "NONE try 18\n",
        "-> "
       ]
      },
      {
       "output_type": "stream",
       "stream": "stdout",
       "text": [
        "-> "
       ]
      },
      {
       "output_type": "stream",
       "stream": "stdout",
       "text": [
        "^ ^"
       ]
      },
      {
       "output_type": "stream",
       "stream": "stdout",
       "text": [
        " -> NONE try 19\n",
        "->"
       ]
      },
      {
       "output_type": "stream",
       "stream": "stdout",
       "text": [
        " -> ^ "
       ]
      },
      {
       "output_type": "stream",
       "stream": "stdout",
       "text": [
        "^ -> "
       ]
      },
      {
       "output_type": "stream",
       "stream": "stdout",
       "text": [
        "NONE try 20\n",
        "->"
       ]
      },
      {
       "output_type": "stream",
       "stream": "stdout",
       "text": [
        " -> ^ "
       ]
      },
      {
       "output_type": "stream",
       "stream": "stdout",
       "text": [
        "^ -> "
       ]
      },
      {
       "output_type": "stream",
       "stream": "stdout",
       "text": [
        "NONE try 21\n",
        "^ "
       ]
      },
      {
       "output_type": "stream",
       "stream": "stdout",
       "text": [
        "^ -> "
       ]
      },
      {
       "output_type": "stream",
       "stream": "stdout",
       "text": [
        "-> -> "
       ]
      },
      {
       "output_type": "stream",
       "stream": "stdout",
       "text": [
        "NONE try 22\n",
        "-> "
       ]
      },
      {
       "output_type": "stream",
       "stream": "stdout",
       "text": [
        "-> "
       ]
      },
      {
       "output_type": "stream",
       "stream": "stdout",
       "text": [
        "^ ^ "
       ]
      },
      {
       "output_type": "stream",
       "stream": "stdout",
       "text": [
        "-> NONE try 23\n",
        "->"
       ]
      },
      {
       "output_type": "stream",
       "stream": "stdout",
       "text": [
        " -> ^ "
       ]
      },
      {
       "output_type": "stream",
       "stream": "stdout",
       "text": [
        "^ -> "
       ]
      },
      {
       "output_type": "stream",
       "stream": "stdout",
       "text": [
        "NONE try 24\n",
        "-> "
       ]
      },
      {
       "output_type": "stream",
       "stream": "stdout",
       "text": [
        "-> ^ "
       ]
      },
      {
       "output_type": "stream",
       "stream": "stdout",
       "text": [
        "^ -> "
       ]
      },
      {
       "output_type": "stream",
       "stream": "stdout",
       "text": [
        "NONE try 25\n",
        "-> "
       ]
      },
      {
       "output_type": "stream",
       "stream": "stdout",
       "text": [
        "-> "
       ]
      },
      {
       "output_type": "stream",
       "stream": "stdout",
       "text": [
        "^ ^ "
       ]
      },
      {
       "output_type": "stream",
       "stream": "stdout",
       "text": [
        "-> "
       ]
      },
      {
       "output_type": "stream",
       "stream": "stdout",
       "text": [
        "NONE try 26\n",
        "-> "
       ]
      },
      {
       "output_type": "stream",
       "stream": "stdout",
       "text": [
        "-> ^ "
       ]
      },
      {
       "output_type": "stream",
       "stream": "stdout",
       "text": [
        "^ -> "
       ]
      },
      {
       "output_type": "stream",
       "stream": "stdout",
       "text": [
        "NONE try 27\n",
        "-> "
       ]
      },
      {
       "output_type": "stream",
       "stream": "stdout",
       "text": [
        "-> ^ "
       ]
      },
      {
       "output_type": "stream",
       "stream": "stdout",
       "text": [
        "^ -> "
       ]
      },
      {
       "output_type": "stream",
       "stream": "stdout",
       "text": [
        "NONE try 28\n",
        "-> "
       ]
      },
      {
       "output_type": "stream",
       "stream": "stdout",
       "text": [
        "-> ^ "
       ]
      },
      {
       "output_type": "stream",
       "stream": "stdout",
       "text": [
        "^ -> "
       ]
      },
      {
       "output_type": "stream",
       "stream": "stdout",
       "text": [
        "NONE try 29\n",
        "-> "
       ]
      },
      {
       "output_type": "stream",
       "stream": "stdout",
       "text": [
        "-> ^ "
       ]
      },
      {
       "output_type": "stream",
       "stream": "stdout",
       "text": [
        "^ -> "
       ]
      },
      {
       "output_type": "stream",
       "stream": "stdout",
       "text": [
        "NONE try 30\n",
        "-> "
       ]
      },
      {
       "output_type": "stream",
       "stream": "stdout",
       "text": [
        "-> ^ "
       ]
      },
      {
       "output_type": "stream",
       "stream": "stdout",
       "text": [
        "^ -> "
       ]
      },
      {
       "output_type": "stream",
       "stream": "stdout",
       "text": [
        "NONE try 31\n",
        "-> "
       ]
      },
      {
       "output_type": "stream",
       "stream": "stdout",
       "text": [
        "-> ^ "
       ]
      },
      {
       "output_type": "stream",
       "stream": "stdout",
       "text": [
        "^ -> "
       ]
      },
      {
       "output_type": "stream",
       "stream": "stdout",
       "text": [
        "NONE try 32\n",
        "-> "
       ]
      },
      {
       "output_type": "stream",
       "stream": "stdout",
       "text": [
        "-> ^ "
       ]
      },
      {
       "output_type": "stream",
       "stream": "stdout",
       "text": [
        "^ -> "
       ]
      },
      {
       "output_type": "stream",
       "stream": "stdout",
       "text": [
        "NONE try 33\n",
        "-> "
       ]
      },
      {
       "output_type": "stream",
       "stream": "stdout",
       "text": [
        "-> ^ "
       ]
      },
      {
       "output_type": "stream",
       "stream": "stdout",
       "text": [
        "^ -> "
       ]
      },
      {
       "output_type": "stream",
       "stream": "stdout",
       "text": [
        "NONE try 34\n",
        "-> "
       ]
      },
      {
       "output_type": "stream",
       "stream": "stdout",
       "text": [
        "-> ^ "
       ]
      },
      {
       "output_type": "stream",
       "stream": "stdout",
       "text": [
        "^ -> "
       ]
      },
      {
       "output_type": "stream",
       "stream": "stdout",
       "text": [
        "NONE try 35\n",
        "-> "
       ]
      },
      {
       "output_type": "stream",
       "stream": "stdout",
       "text": [
        "-> ^ "
       ]
      },
      {
       "output_type": "stream",
       "stream": "stdout",
       "text": [
        "^ -> "
       ]
      },
      {
       "output_type": "stream",
       "stream": "stdout",
       "text": [
        "NONE try 36\n",
        "-> "
       ]
      },
      {
       "output_type": "stream",
       "stream": "stdout",
       "text": [
        "-> ^ "
       ]
      },
      {
       "output_type": "stream",
       "stream": "stdout",
       "text": [
        "^ -> "
       ]
      },
      {
       "output_type": "stream",
       "stream": "stdout",
       "text": [
        "NONE try 37\n",
        "-> "
       ]
      },
      {
       "output_type": "stream",
       "stream": "stdout",
       "text": [
        "-> ^ "
       ]
      },
      {
       "output_type": "stream",
       "stream": "stdout",
       "text": [
        "^ -> "
       ]
      },
      {
       "output_type": "stream",
       "stream": "stdout",
       "text": [
        "NONE try 38\n",
        "-> "
       ]
      },
      {
       "output_type": "stream",
       "stream": "stdout",
       "text": [
        "-> ^ "
       ]
      },
      {
       "output_type": "stream",
       "stream": "stdout",
       "text": [
        "^ -> "
       ]
      },
      {
       "output_type": "stream",
       "stream": "stdout",
       "text": [
        "NONE try 39\n",
        "-> "
       ]
      },
      {
       "output_type": "stream",
       "stream": "stdout",
       "text": [
        "-> ^ "
       ]
      },
      {
       "output_type": "stream",
       "stream": "stdout",
       "text": [
        "^ -> "
       ]
      },
      {
       "output_type": "stream",
       "stream": "stdout",
       "text": [
        "NONE try 40\n",
        "-> "
       ]
      },
      {
       "output_type": "stream",
       "stream": "stdout",
       "text": [
        "-> ^ "
       ]
      },
      {
       "output_type": "stream",
       "stream": "stdout",
       "text": [
        "^ -> "
       ]
      },
      {
       "output_type": "stream",
       "stream": "stdout",
       "text": [
        "NONE try 41\n",
        "-> "
       ]
      },
      {
       "output_type": "stream",
       "stream": "stdout",
       "text": [
        "-> ^ "
       ]
      },
      {
       "output_type": "stream",
       "stream": "stdout",
       "text": [
        "^ "
       ]
      },
      {
       "output_type": "stream",
       "stream": "stdout",
       "text": [
        "-> "
       ]
      },
      {
       "output_type": "stream",
       "stream": "stdout",
       "text": [
        "NONE try 42\n",
        "-> "
       ]
      },
      {
       "output_type": "stream",
       "stream": "stdout",
       "text": [
        "-> "
       ]
      },
      {
       "output_type": "stream",
       "stream": "stdout",
       "text": [
        "^ ^ "
       ]
      },
      {
       "output_type": "stream",
       "stream": "stdout",
       "text": [
        "-> NONE try 43\n",
        "->"
       ]
      },
      {
       "output_type": "stream",
       "stream": "stdout",
       "text": [
        " -> ^ "
       ]
      },
      {
       "output_type": "stream",
       "stream": "stdout",
       "text": [
        "^ "
       ]
      },
      {
       "output_type": "stream",
       "stream": "stdout",
       "text": [
        "-> NONE try 44\n",
        "->"
       ]
      },
      {
       "output_type": "stream",
       "stream": "stdout",
       "text": [
        " -> ^ "
       ]
      },
      {
       "output_type": "stream",
       "stream": "stdout",
       "text": [
        "^ -> "
       ]
      },
      {
       "output_type": "stream",
       "stream": "stdout",
       "text": [
        "NONE try 45\n",
        "-> "
       ]
      },
      {
       "output_type": "stream",
       "stream": "stdout",
       "text": [
        "-> ^ "
       ]
      },
      {
       "output_type": "stream",
       "stream": "stdout",
       "text": [
        "^ -> "
       ]
      },
      {
       "output_type": "stream",
       "stream": "stdout",
       "text": [
        "NONE try 46\n",
        "-> "
       ]
      },
      {
       "output_type": "stream",
       "stream": "stdout",
       "text": [
        "-> ^ "
       ]
      },
      {
       "output_type": "stream",
       "stream": "stdout",
       "text": [
        "^ -> "
       ]
      },
      {
       "output_type": "stream",
       "stream": "stdout",
       "text": [
        "NONE try 47\n",
        "-> "
       ]
      },
      {
       "output_type": "stream",
       "stream": "stdout",
       "text": [
        "-> "
       ]
      },
      {
       "output_type": "stream",
       "stream": "stdout",
       "text": [
        "^ "
       ]
      },
      {
       "output_type": "stream",
       "stream": "stdout",
       "text": [
        "^ "
       ]
      },
      {
       "output_type": "stream",
       "stream": "stdout",
       "text": [
        "-> "
       ]
      },
      {
       "output_type": "stream",
       "stream": "stdout",
       "text": [
        "NONE try 48\n",
        "-> "
       ]
      },
      {
       "output_type": "stream",
       "stream": "stdout",
       "text": [
        "-> ^ "
       ]
      },
      {
       "output_type": "stream",
       "stream": "stdout",
       "text": [
        "^ -> "
       ]
      },
      {
       "output_type": "stream",
       "stream": "stdout",
       "text": [
        "NONE try 49\n",
        "-> "
       ]
      },
      {
       "output_type": "stream",
       "stream": "stdout",
       "text": [
        "-> ^ "
       ]
      },
      {
       "output_type": "stream",
       "stream": "stdout",
       "text": [
        "^ -> "
       ]
      },
      {
       "output_type": "stream",
       "stream": "stdout",
       "text": [
        "NONE try 50\n",
        "-> "
       ]
      },
      {
       "output_type": "stream",
       "stream": "stdout",
       "text": [
        "-> ^ "
       ]
      },
      {
       "output_type": "stream",
       "stream": "stdout",
       "text": [
        "^ -> "
       ]
      },
      {
       "output_type": "stream",
       "stream": "stdout",
       "text": [
        "NONE try 51\n",
        "-> "
       ]
      },
      {
       "output_type": "stream",
       "stream": "stdout",
       "text": [
        "-> ^ "
       ]
      },
      {
       "output_type": "stream",
       "stream": "stdout",
       "text": [
        "^ -> "
       ]
      },
      {
       "output_type": "stream",
       "stream": "stdout",
       "text": [
        "NONE try 52\n",
        "-> "
       ]
      },
      {
       "output_type": "stream",
       "stream": "stdout",
       "text": [
        "-> ^ "
       ]
      },
      {
       "output_type": "stream",
       "stream": "stdout",
       "text": [
        "^ -> "
       ]
      },
      {
       "output_type": "stream",
       "stream": "stdout",
       "text": [
        "NONE try 53\n",
        "-> "
       ]
      },
      {
       "output_type": "stream",
       "stream": "stdout",
       "text": [
        "-> ^ "
       ]
      },
      {
       "output_type": "stream",
       "stream": "stdout",
       "text": [
        "^ -> "
       ]
      },
      {
       "output_type": "stream",
       "stream": "stdout",
       "text": [
        "NONE try 54\n",
        "-> "
       ]
      },
      {
       "output_type": "stream",
       "stream": "stdout",
       "text": [
        "-> ^ "
       ]
      },
      {
       "output_type": "stream",
       "stream": "stdout",
       "text": [
        "^ "
       ]
      },
      {
       "output_type": "stream",
       "stream": "stdout",
       "text": [
        "-> "
       ]
      },
      {
       "output_type": "stream",
       "stream": "stdout",
       "text": [
        "NONE try 55\n",
        "-> "
       ]
      },
      {
       "output_type": "stream",
       "stream": "stdout",
       "text": [
        "-> ^ "
       ]
      },
      {
       "output_type": "stream",
       "stream": "stdout",
       "text": [
        "^ -> "
       ]
      },
      {
       "output_type": "stream",
       "stream": "stdout",
       "text": [
        "NONE try 56\n",
        "-> "
       ]
      },
      {
       "output_type": "stream",
       "stream": "stdout",
       "text": [
        "-> ^ "
       ]
      },
      {
       "output_type": "stream",
       "stream": "stdout",
       "text": [
        "^ -> "
       ]
      },
      {
       "output_type": "stream",
       "stream": "stdout",
       "text": [
        "NONE try 57\n",
        "-> "
       ]
      },
      {
       "output_type": "stream",
       "stream": "stdout",
       "text": [
        "-> ^ "
       ]
      },
      {
       "output_type": "stream",
       "stream": "stdout",
       "text": [
        "^ -> "
       ]
      },
      {
       "output_type": "stream",
       "stream": "stdout",
       "text": [
        "NONE try 58\n",
        "-> "
       ]
      },
      {
       "output_type": "stream",
       "stream": "stdout",
       "text": [
        "-> ^ "
       ]
      },
      {
       "output_type": "stream",
       "stream": "stdout",
       "text": [
        "^ -> "
       ]
      },
      {
       "output_type": "stream",
       "stream": "stdout",
       "text": [
        "NONE try 59\n",
        "-> "
       ]
      },
      {
       "output_type": "stream",
       "stream": "stdout",
       "text": [
        "-> ^"
       ]
      },
      {
       "output_type": "stream",
       "stream": "stdout",
       "text": [
        " ^ -> "
       ]
      },
      {
       "output_type": "stream",
       "stream": "stdout",
       "text": [
        "NONE try 60\n",
        "-> "
       ]
      },
      {
       "output_type": "stream",
       "stream": "stdout",
       "text": [
        "-> ^ "
       ]
      },
      {
       "output_type": "stream",
       "stream": "stdout",
       "text": [
        "^ "
       ]
      },
      {
       "output_type": "stream",
       "stream": "stdout",
       "text": [
        "-> "
       ]
      },
      {
       "output_type": "stream",
       "stream": "stdout",
       "text": [
        "NONE try 61\n",
        "-> "
       ]
      },
      {
       "output_type": "stream",
       "stream": "stdout",
       "text": [
        "-> ^ "
       ]
      },
      {
       "output_type": "stream",
       "stream": "stdout",
       "text": [
        "^ -> "
       ]
      },
      {
       "output_type": "stream",
       "stream": "stdout",
       "text": [
        "NONE try 62\n",
        "-> "
       ]
      },
      {
       "output_type": "stream",
       "stream": "stdout",
       "text": [
        "-> ^ "
       ]
      },
      {
       "output_type": "stream",
       "stream": "stdout",
       "text": [
        "^ -> "
       ]
      },
      {
       "output_type": "stream",
       "stream": "stdout",
       "text": [
        "NONE try 63\n",
        "-> "
       ]
      },
      {
       "output_type": "stream",
       "stream": "stdout",
       "text": [
        "-> ^ "
       ]
      },
      {
       "output_type": "stream",
       "stream": "stdout",
       "text": [
        "^ -> "
       ]
      },
      {
       "output_type": "stream",
       "stream": "stdout",
       "text": [
        "NONE try 64\n",
        "-> "
       ]
      },
      {
       "output_type": "stream",
       "stream": "stdout",
       "text": [
        "-> ^ "
       ]
      },
      {
       "output_type": "stream",
       "stream": "stdout",
       "text": [
        "^ -> "
       ]
      },
      {
       "output_type": "stream",
       "stream": "stdout",
       "text": [
        "NONE try 65\n",
        "-> "
       ]
      },
      {
       "output_type": "stream",
       "stream": "stdout",
       "text": [
        "-> ^ "
       ]
      },
      {
       "output_type": "stream",
       "stream": "stdout",
       "text": [
        "^ -> "
       ]
      },
      {
       "output_type": "stream",
       "stream": "stdout",
       "text": [
        "NONE try 66\n",
        "-> "
       ]
      },
      {
       "output_type": "stream",
       "stream": "stdout",
       "text": [
        "-> ^ "
       ]
      },
      {
       "output_type": "stream",
       "stream": "stdout",
       "text": [
        "^ -> "
       ]
      },
      {
       "output_type": "stream",
       "stream": "stdout",
       "text": [
        "NONE try 67\n",
        "-> "
       ]
      },
      {
       "output_type": "stream",
       "stream": "stdout",
       "text": [
        "-> ^ "
       ]
      },
      {
       "output_type": "stream",
       "stream": "stdout",
       "text": [
        "^ -> "
       ]
      },
      {
       "output_type": "stream",
       "stream": "stdout",
       "text": [
        "NONE try 68\n",
        "-> "
       ]
      },
      {
       "output_type": "stream",
       "stream": "stdout",
       "text": [
        "-> ^ "
       ]
      },
      {
       "output_type": "stream",
       "stream": "stdout",
       "text": [
        "^ -> "
       ]
      },
      {
       "output_type": "stream",
       "stream": "stdout",
       "text": [
        "NONE try 69\n",
        "-> "
       ]
      },
      {
       "output_type": "stream",
       "stream": "stdout",
       "text": [
        "-> ^ "
       ]
      },
      {
       "output_type": "stream",
       "stream": "stdout",
       "text": [
        "^ -> "
       ]
      },
      {
       "output_type": "stream",
       "stream": "stdout",
       "text": [
        "NONE try 70\n",
        "-> "
       ]
      },
      {
       "output_type": "stream",
       "stream": "stdout",
       "text": [
        "-> ^ "
       ]
      },
      {
       "output_type": "stream",
       "stream": "stdout",
       "text": [
        "^ -> "
       ]
      },
      {
       "output_type": "stream",
       "stream": "stdout",
       "text": [
        "NONE try 71\n",
        "-> "
       ]
      },
      {
       "output_type": "stream",
       "stream": "stdout",
       "text": [
        "-> "
       ]
      },
      {
       "output_type": "stream",
       "stream": "stdout",
       "text": [
        "^ "
       ]
      },
      {
       "output_type": "stream",
       "stream": "stdout",
       "text": [
        "^ -> "
       ]
      },
      {
       "output_type": "stream",
       "stream": "stdout",
       "text": [
        "NONE try 72\n",
        "->"
       ]
      },
      {
       "output_type": "stream",
       "stream": "stdout",
       "text": [
        " -> ^ "
       ]
      },
      {
       "output_type": "stream",
       "stream": "stdout",
       "text": [
        "^ -> "
       ]
      },
      {
       "output_type": "stream",
       "stream": "stdout",
       "text": [
        "NONE try 73\n",
        "-> "
       ]
      },
      {
       "output_type": "stream",
       "stream": "stdout",
       "text": [
        "-> ^ "
       ]
      },
      {
       "output_type": "stream",
       "stream": "stdout",
       "text": [
        "^ -> "
       ]
      },
      {
       "output_type": "stream",
       "stream": "stdout",
       "text": [
        "NONE try 74\n",
        "-> "
       ]
      },
      {
       "output_type": "stream",
       "stream": "stdout",
       "text": [
        "-> ^ "
       ]
      },
      {
       "output_type": "stream",
       "stream": "stdout",
       "text": [
        "^ -> "
       ]
      },
      {
       "output_type": "stream",
       "stream": "stdout",
       "text": [
        "NONE try 75\n",
        "-> "
       ]
      },
      {
       "output_type": "stream",
       "stream": "stdout",
       "text": [
        "-> ^ "
       ]
      },
      {
       "output_type": "stream",
       "stream": "stdout",
       "text": [
        "^ -> "
       ]
      },
      {
       "output_type": "stream",
       "stream": "stdout",
       "text": [
        "NONE try 76\n",
        "-> "
       ]
      },
      {
       "output_type": "stream",
       "stream": "stdout",
       "text": [
        "-> ^ "
       ]
      },
      {
       "output_type": "stream",
       "stream": "stdout",
       "text": [
        "^ "
       ]
      },
      {
       "output_type": "stream",
       "stream": "stdout",
       "text": [
        "-> "
       ]
      },
      {
       "output_type": "stream",
       "stream": "stdout",
       "text": [
        "NONE try 77\n",
        "-> "
       ]
      },
      {
       "output_type": "stream",
       "stream": "stdout",
       "text": [
        "-> ^ "
       ]
      },
      {
       "output_type": "stream",
       "stream": "stdout",
       "text": [
        "^ -> "
       ]
      },
      {
       "output_type": "stream",
       "stream": "stdout",
       "text": [
        "NONE try 78\n",
        "-> "
       ]
      },
      {
       "output_type": "stream",
       "stream": "stdout",
       "text": [
        "-> ^ "
       ]
      },
      {
       "output_type": "stream",
       "stream": "stdout",
       "text": [
        "^ -> "
       ]
      },
      {
       "output_type": "stream",
       "stream": "stdout",
       "text": [
        "NONE try 79\n",
        "-> "
       ]
      },
      {
       "output_type": "stream",
       "stream": "stdout",
       "text": [
        "-> ^ "
       ]
      },
      {
       "output_type": "stream",
       "stream": "stdout",
       "text": [
        "^ -> "
       ]
      },
      {
       "output_type": "stream",
       "stream": "stdout",
       "text": [
        "NONE try 80\n",
        "-> "
       ]
      },
      {
       "output_type": "stream",
       "stream": "stdout",
       "text": [
        "-> ^ "
       ]
      },
      {
       "output_type": "stream",
       "stream": "stdout",
       "text": [
        "^ -> "
       ]
      },
      {
       "output_type": "stream",
       "stream": "stdout",
       "text": [
        "NONE try 81\n",
        "-> "
       ]
      },
      {
       "output_type": "stream",
       "stream": "stdout",
       "text": [
        "-> ^ "
       ]
      },
      {
       "output_type": "stream",
       "stream": "stdout",
       "text": [
        "^ -> "
       ]
      },
      {
       "output_type": "stream",
       "stream": "stdout",
       "text": [
        "NONE try 82\n",
        "-> "
       ]
      },
      {
       "output_type": "stream",
       "stream": "stdout",
       "text": [
        "-> ^ "
       ]
      },
      {
       "output_type": "stream",
       "stream": "stdout",
       "text": [
        "^ ->"
       ]
      },
      {
       "output_type": "stream",
       "stream": "stdout",
       "text": [
        " NONE try 83\n",
        "-> "
       ]
      },
      {
       "output_type": "stream",
       "stream": "stdout",
       "text": [
        "-> "
       ]
      },
      {
       "output_type": "stream",
       "stream": "stdout",
       "text": [
        "^ ^ "
       ]
      },
      {
       "output_type": "stream",
       "stream": "stdout",
       "text": [
        "-> NONE try 84\n",
        "->"
       ]
      },
      {
       "output_type": "stream",
       "stream": "stdout",
       "text": [
        " -> ^ "
       ]
      },
      {
       "output_type": "stream",
       "stream": "stdout",
       "text": [
        "^ -> "
       ]
      },
      {
       "output_type": "stream",
       "stream": "stdout",
       "text": [
        "NONE try 85\n",
        "-> "
       ]
      },
      {
       "output_type": "stream",
       "stream": "stdout",
       "text": [
        "-> ^ "
       ]
      },
      {
       "output_type": "stream",
       "stream": "stdout",
       "text": [
        "^ -> "
       ]
      },
      {
       "output_type": "stream",
       "stream": "stdout",
       "text": [
        "NONE try 86\n",
        "-> "
       ]
      },
      {
       "output_type": "stream",
       "stream": "stdout",
       "text": [
        "-> ^ "
       ]
      },
      {
       "output_type": "stream",
       "stream": "stdout",
       "text": [
        "^ -> "
       ]
      },
      {
       "output_type": "stream",
       "stream": "stdout",
       "text": [
        "NONE try 87\n",
        "-> "
       ]
      },
      {
       "output_type": "stream",
       "stream": "stdout",
       "text": [
        "-> ^ "
       ]
      },
      {
       "output_type": "stream",
       "stream": "stdout",
       "text": [
        "^ -> "
       ]
      },
      {
       "output_type": "stream",
       "stream": "stdout",
       "text": [
        "NONE try 88\n",
        "->"
       ]
      },
      {
       "output_type": "stream",
       "stream": "stdout",
       "text": [
        " -> ^ "
       ]
      },
      {
       "output_type": "stream",
       "stream": "stdout",
       "text": [
        "^ -> "
       ]
      },
      {
       "output_type": "stream",
       "stream": "stdout",
       "text": [
        "NONE try 89\n",
        "-> "
       ]
      },
      {
       "output_type": "stream",
       "stream": "stdout",
       "text": [
        "-> ^ "
       ]
      },
      {
       "output_type": "stream",
       "stream": "stdout",
       "text": [
        "^ -> "
       ]
      },
      {
       "output_type": "stream",
       "stream": "stdout",
       "text": [
        "NONE try 90\n",
        "-> "
       ]
      },
      {
       "output_type": "stream",
       "stream": "stdout",
       "text": [
        "-> ^ "
       ]
      },
      {
       "output_type": "stream",
       "stream": "stdout",
       "text": [
        "^ -> "
       ]
      },
      {
       "output_type": "stream",
       "stream": "stdout",
       "text": [
        "NONE try 91\n",
        "-> "
       ]
      },
      {
       "output_type": "stream",
       "stream": "stdout",
       "text": [
        "-> ^ "
       ]
      },
      {
       "output_type": "stream",
       "stream": "stdout",
       "text": [
        "^ -> "
       ]
      },
      {
       "output_type": "stream",
       "stream": "stdout",
       "text": [
        "NONE try 92\n",
        "-> "
       ]
      },
      {
       "output_type": "stream",
       "stream": "stdout",
       "text": [
        "-> ^ "
       ]
      },
      {
       "output_type": "stream",
       "stream": "stdout",
       "text": [
        "^ -> "
       ]
      },
      {
       "output_type": "stream",
       "stream": "stdout",
       "text": [
        "NONE try 93\n",
        "-> "
       ]
      },
      {
       "output_type": "stream",
       "stream": "stdout",
       "text": [
        "-> "
       ]
      },
      {
       "output_type": "stream",
       "stream": "stdout",
       "text": [
        "^ "
       ]
      },
      {
       "output_type": "stream",
       "stream": "stdout",
       "text": [
        "^ -> "
       ]
      },
      {
       "output_type": "stream",
       "stream": "stdout",
       "text": [
        "NONE try 94\n",
        "-> "
       ]
      },
      {
       "output_type": "stream",
       "stream": "stdout",
       "text": [
        "-> ^ "
       ]
      },
      {
       "output_type": "stream",
       "stream": "stdout",
       "text": [
        "^ -> "
       ]
      },
      {
       "output_type": "stream",
       "stream": "stdout",
       "text": [
        "NONE try 95\n",
        "-> "
       ]
      },
      {
       "output_type": "stream",
       "stream": "stdout",
       "text": [
        "-> ^ "
       ]
      },
      {
       "output_type": "stream",
       "stream": "stdout",
       "text": [
        "^ -> "
       ]
      },
      {
       "output_type": "stream",
       "stream": "stdout",
       "text": [
        "NONE try 96\n",
        "-> "
       ]
      },
      {
       "output_type": "stream",
       "stream": "stdout",
       "text": [
        "-> ^ "
       ]
      },
      {
       "output_type": "stream",
       "stream": "stdout",
       "text": [
        "^ -> "
       ]
      },
      {
       "output_type": "stream",
       "stream": "stdout",
       "text": [
        "NONE try 97\n",
        "-> "
       ]
      },
      {
       "output_type": "stream",
       "stream": "stdout",
       "text": [
        "-> ^ "
       ]
      },
      {
       "output_type": "stream",
       "stream": "stdout",
       "text": [
        "^ -> "
       ]
      },
      {
       "output_type": "stream",
       "stream": "stdout",
       "text": [
        "NONE try 98\n",
        "-> "
       ]
      },
      {
       "output_type": "stream",
       "stream": "stdout",
       "text": [
        "-> ^ "
       ]
      },
      {
       "output_type": "stream",
       "stream": "stdout",
       "text": [
        "^ -> "
       ]
      },
      {
       "output_type": "stream",
       "stream": "stdout",
       "text": [
        "NONE try 99\n",
        "-> "
       ]
      },
      {
       "output_type": "stream",
       "stream": "stdout",
       "text": [
        "-> ^ "
       ]
      },
      {
       "output_type": "stream",
       "stream": "stdout",
       "text": [
        "^ -> "
       ]
      },
      {
       "output_type": "stream",
       "stream": "stdout",
       "text": [
        "NONE try 100\n",
        "-> "
       ]
      },
      {
       "output_type": "stream",
       "stream": "stdout",
       "text": [
        "-> ^ "
       ]
      },
      {
       "output_type": "stream",
       "stream": "stdout",
       "text": [
        "^ -> "
       ]
      },
      {
       "output_type": "stream",
       "stream": "stdout",
       "text": [
        "NONE try 101\n",
        "-> "
       ]
      },
      {
       "output_type": "stream",
       "stream": "stdout",
       "text": [
        "-> ^ "
       ]
      },
      {
       "output_type": "stream",
       "stream": "stdout",
       "text": [
        "^ -> "
       ]
      },
      {
       "output_type": "stream",
       "stream": "stdout",
       "text": [
        "NONE try 102\n",
        "-> "
       ]
      },
      {
       "output_type": "stream",
       "stream": "stdout",
       "text": [
        "-> ^ "
       ]
      },
      {
       "output_type": "stream",
       "stream": "stdout",
       "text": [
        "^ -> "
       ]
      },
      {
       "output_type": "stream",
       "stream": "stdout",
       "text": [
        "NONE try 103\n",
        "-> "
       ]
      },
      {
       "output_type": "stream",
       "stream": "stdout",
       "text": [
        "-> "
       ]
      },
      {
       "output_type": "stream",
       "stream": "stdout",
       "text": [
        "^ ^ "
       ]
      },
      {
       "output_type": "stream",
       "stream": "stdout",
       "text": [
        "-> NONE try 104\n",
        "->"
       ]
      },
      {
       "output_type": "stream",
       "stream": "stdout",
       "text": [
        " -> ^ "
       ]
      },
      {
       "output_type": "stream",
       "stream": "stdout",
       "text": [
        "^ -> "
       ]
      },
      {
       "output_type": "stream",
       "stream": "stdout",
       "text": [
        "NONE try 105\n",
        "->"
       ]
      },
      {
       "output_type": "stream",
       "stream": "stdout",
       "text": [
        " -> ^ "
       ]
      },
      {
       "output_type": "stream",
       "stream": "stdout",
       "text": [
        "^ -> "
       ]
      },
      {
       "output_type": "stream",
       "stream": "stdout",
       "text": [
        "NONE try 106\n",
        "-> "
       ]
      },
      {
       "output_type": "stream",
       "stream": "stdout",
       "text": [
        "-> "
       ]
      },
      {
       "output_type": "stream",
       "stream": "stdout",
       "text": [
        "^ "
       ]
      },
      {
       "output_type": "stream",
       "stream": "stdout",
       "text": [
        "^ "
       ]
      },
      {
       "output_type": "stream",
       "stream": "stdout",
       "text": [
        "-> "
       ]
      },
      {
       "output_type": "stream",
       "stream": "stdout",
       "text": [
        "NONE try 107\n",
        "->"
       ]
      },
      {
       "output_type": "stream",
       "stream": "stdout",
       "text": [
        " -> "
       ]
      },
      {
       "output_type": "stream",
       "stream": "stdout",
       "text": [
        "^ "
       ]
      },
      {
       "output_type": "stream",
       "stream": "stdout",
       "text": [
        "^ "
       ]
      },
      {
       "output_type": "stream",
       "stream": "stdout",
       "text": [
        "-> "
       ]
      },
      {
       "output_type": "stream",
       "stream": "stdout",
       "text": [
        "NONE try 108\n",
        "->"
       ]
      },
      {
       "output_type": "stream",
       "stream": "stdout",
       "text": [
        " -> ^ "
       ]
      },
      {
       "output_type": "stream",
       "stream": "stdout",
       "text": [
        "^ "
       ]
      },
      {
       "output_type": "stream",
       "stream": "stdout",
       "text": [
        "-> NONE try 109\n",
        "->"
       ]
      },
      {
       "output_type": "stream",
       "stream": "stdout",
       "text": [
        " -> "
       ]
      },
      {
       "output_type": "stream",
       "stream": "stdout",
       "text": [
        "^ "
       ]
      },
      {
       "output_type": "stream",
       "stream": "stdout",
       "text": [
        "^ "
       ]
      },
      {
       "output_type": "stream",
       "stream": "stdout",
       "text": [
        "-> "
       ]
      },
      {
       "output_type": "stream",
       "stream": "stdout",
       "text": [
        "NONE try 110\n",
        "->"
       ]
      },
      {
       "output_type": "stream",
       "stream": "stdout",
       "text": [
        " -> ^ "
       ]
      },
      {
       "output_type": "stream",
       "stream": "stdout",
       "text": [
        "^ "
       ]
      },
      {
       "output_type": "stream",
       "stream": "stdout",
       "text": [
        "-> NONE try 111\n",
        "->"
       ]
      },
      {
       "output_type": "stream",
       "stream": "stdout",
       "text": [
        " -> "
       ]
      },
      {
       "output_type": "stream",
       "stream": "stdout",
       "text": [
        "^ ^ "
       ]
      },
      {
       "output_type": "stream",
       "stream": "stdout",
       "text": [
        "-> NONE try 112\n",
        "->"
       ]
      },
      {
       "output_type": "stream",
       "stream": "stdout",
       "text": [
        " -> ^ "
       ]
      },
      {
       "output_type": "stream",
       "stream": "stdout",
       "text": [
        "^ -> "
       ]
      },
      {
       "output_type": "stream",
       "stream": "stdout",
       "text": [
        "NONE try 113\n",
        "-> "
       ]
      },
      {
       "output_type": "stream",
       "stream": "stdout",
       "text": [
        "-> ^ "
       ]
      },
      {
       "output_type": "stream",
       "stream": "stdout",
       "text": [
        "^ -> "
       ]
      },
      {
       "output_type": "stream",
       "stream": "stdout",
       "text": [
        "NONE try 114\n",
        "-> "
       ]
      },
      {
       "output_type": "stream",
       "stream": "stdout",
       "text": [
        "-> ^ "
       ]
      },
      {
       "output_type": "stream",
       "stream": "stdout",
       "text": [
        "^ -> "
       ]
      },
      {
       "output_type": "stream",
       "stream": "stdout",
       "text": [
        "NONE try 115\n",
        "-> "
       ]
      },
      {
       "output_type": "stream",
       "stream": "stdout",
       "text": [
        "-> ^ "
       ]
      },
      {
       "output_type": "stream",
       "stream": "stdout",
       "text": [
        "^ -> "
       ]
      },
      {
       "output_type": "stream",
       "stream": "stdout",
       "text": [
        "NONE try 116\n",
        "-> "
       ]
      },
      {
       "output_type": "stream",
       "stream": "stdout",
       "text": [
        "-> ^ "
       ]
      },
      {
       "output_type": "stream",
       "stream": "stdout",
       "text": [
        "^ -> "
       ]
      },
      {
       "output_type": "stream",
       "stream": "stdout",
       "text": [
        "NONE try 117\n",
        "-> "
       ]
      },
      {
       "output_type": "stream",
       "stream": "stdout",
       "text": [
        "-> ^ "
       ]
      },
      {
       "output_type": "stream",
       "stream": "stdout",
       "text": [
        "^ -> "
       ]
      },
      {
       "output_type": "stream",
       "stream": "stdout",
       "text": [
        "NONE try 118\n",
        "-> "
       ]
      },
      {
       "output_type": "stream",
       "stream": "stdout",
       "text": [
        "-> ^ "
       ]
      },
      {
       "output_type": "stream",
       "stream": "stdout",
       "text": [
        "^ -> "
       ]
      },
      {
       "output_type": "stream",
       "stream": "stdout",
       "text": [
        "NONE try 119\n",
        "-> "
       ]
      },
      {
       "output_type": "stream",
       "stream": "stdout",
       "text": [
        "-> ^ "
       ]
      },
      {
       "output_type": "stream",
       "stream": "stdout",
       "text": [
        "^ -> "
       ]
      },
      {
       "output_type": "stream",
       "stream": "stdout",
       "text": [
        "NONE try 120\n",
        "-> "
       ]
      },
      {
       "output_type": "stream",
       "stream": "stdout",
       "text": [
        "-> "
       ]
      },
      {
       "output_type": "stream",
       "stream": "stdout",
       "text": [
        "^ ^ "
       ]
      },
      {
       "output_type": "stream",
       "stream": "stdout",
       "text": [
        "-> NONE try 121\n",
        "->"
       ]
      },
      {
       "output_type": "stream",
       "stream": "stdout",
       "text": [
        " -> ^ "
       ]
      },
      {
       "output_type": "stream",
       "stream": "stdout",
       "text": [
        "^ -> "
       ]
      },
      {
       "output_type": "stream",
       "stream": "stdout",
       "text": [
        "NONE try 122\n",
        "-> "
       ]
      },
      {
       "output_type": "stream",
       "stream": "stdout",
       "text": [
        "-> ^ "
       ]
      },
      {
       "output_type": "stream",
       "stream": "stdout",
       "text": [
        "^ -> "
       ]
      },
      {
       "output_type": "stream",
       "stream": "stdout",
       "text": [
        "NONE try 123\n",
        "-> "
       ]
      },
      {
       "output_type": "stream",
       "stream": "stdout",
       "text": [
        "-> ^ "
       ]
      },
      {
       "output_type": "stream",
       "stream": "stdout",
       "text": [
        "^ -> "
       ]
      },
      {
       "output_type": "stream",
       "stream": "stdout",
       "text": [
        "NONE try 124\n",
        "->"
       ]
      },
      {
       "output_type": "stream",
       "stream": "stdout",
       "text": [
        " -> "
       ]
      },
      {
       "output_type": "stream",
       "stream": "stdout",
       "text": [
        "^ "
       ]
      },
      {
       "output_type": "stream",
       "stream": "stdout",
       "text": [
        "^ "
       ]
      },
      {
       "output_type": "stream",
       "stream": "stdout",
       "text": [
        "-> "
       ]
      },
      {
       "output_type": "stream",
       "stream": "stdout",
       "text": [
        "NONE try 125\n",
        "->"
       ]
      },
      {
       "output_type": "stream",
       "stream": "stdout",
       "text": [
        " -> "
       ]
      },
      {
       "output_type": "stream",
       "stream": "stdout",
       "text": [
        "^ "
       ]
      },
      {
       "output_type": "stream",
       "stream": "stdout",
       "text": [
        "^ "
       ]
      },
      {
       "output_type": "stream",
       "stream": "stdout",
       "text": [
        "-> "
       ]
      },
      {
       "output_type": "stream",
       "stream": "stdout",
       "text": [
        "NONE try 126\n",
        "->"
       ]
      },
      {
       "output_type": "stream",
       "stream": "stdout",
       "text": [
        " -> ^ "
       ]
      },
      {
       "output_type": "stream",
       "stream": "stdout",
       "text": [
        "^ "
       ]
      },
      {
       "output_type": "stream",
       "stream": "stdout",
       "text": [
        "-> NONE try 127\n",
        "->"
       ]
      },
      {
       "output_type": "stream",
       "stream": "stdout",
       "text": [
        " -> ^ "
       ]
      },
      {
       "output_type": "stream",
       "stream": "stdout",
       "text": [
        "^ -> "
       ]
      },
      {
       "output_type": "stream",
       "stream": "stdout",
       "text": [
        "NONE try 128\n",
        "-> "
       ]
      },
      {
       "output_type": "stream",
       "stream": "stdout",
       "text": [
        "-> ^ "
       ]
      },
      {
       "output_type": "stream",
       "stream": "stdout",
       "text": [
        "^ -> "
       ]
      },
      {
       "output_type": "stream",
       "stream": "stdout",
       "text": [
        "NONE try 129\n",
        "-> "
       ]
      },
      {
       "output_type": "stream",
       "stream": "stdout",
       "text": [
        "-> ^ "
       ]
      },
      {
       "output_type": "stream",
       "stream": "stdout",
       "text": [
        "^ -> "
       ]
      },
      {
       "output_type": "stream",
       "stream": "stdout",
       "text": [
        "NONE try 130\n",
        "-> "
       ]
      },
      {
       "output_type": "stream",
       "stream": "stdout",
       "text": [
        "-> ^ "
       ]
      },
      {
       "output_type": "stream",
       "stream": "stdout",
       "text": [
        "^ "
       ]
      },
      {
       "output_type": "stream",
       "stream": "stdout",
       "text": [
        "-> "
       ]
      },
      {
       "output_type": "stream",
       "stream": "stdout",
       "text": [
        "NONE try 131\n",
        "-> "
       ]
      },
      {
       "output_type": "stream",
       "stream": "stdout",
       "text": [
        "-> ^ "
       ]
      },
      {
       "output_type": "stream",
       "stream": "stdout",
       "text": [
        "^ -> "
       ]
      },
      {
       "output_type": "stream",
       "stream": "stdout",
       "text": [
        "NONE try 132\n",
        "-> "
       ]
      },
      {
       "output_type": "stream",
       "stream": "stdout",
       "text": [
        "-> ^ "
       ]
      },
      {
       "output_type": "stream",
       "stream": "stdout",
       "text": [
        "^ -> "
       ]
      },
      {
       "output_type": "stream",
       "stream": "stdout",
       "text": [
        "NONE try 133\n",
        "-> "
       ]
      },
      {
       "output_type": "stream",
       "stream": "stdout",
       "text": [
        "-> ^ "
       ]
      },
      {
       "output_type": "stream",
       "stream": "stdout",
       "text": [
        "^ -> "
       ]
      },
      {
       "output_type": "stream",
       "stream": "stdout",
       "text": [
        "NONE try 134\n",
        "-> "
       ]
      },
      {
       "output_type": "stream",
       "stream": "stdout",
       "text": [
        "-> ^ "
       ]
      },
      {
       "output_type": "stream",
       "stream": "stdout",
       "text": [
        "^ -> "
       ]
      },
      {
       "output_type": "stream",
       "stream": "stdout",
       "text": [
        "NONE try 135\n",
        "-> "
       ]
      },
      {
       "output_type": "stream",
       "stream": "stdout",
       "text": [
        "-> ^ "
       ]
      },
      {
       "output_type": "stream",
       "stream": "stdout",
       "text": [
        "^ -> "
       ]
      },
      {
       "output_type": "stream",
       "stream": "stdout",
       "text": [
        "NONE try 136\n",
        "-> "
       ]
      },
      {
       "output_type": "stream",
       "stream": "stdout",
       "text": [
        "-> "
       ]
      },
      {
       "output_type": "stream",
       "stream": "stdout",
       "text": [
        "^ "
       ]
      },
      {
       "output_type": "stream",
       "stream": "stdout",
       "text": [
        "^ -> "
       ]
      },
      {
       "output_type": "stream",
       "stream": "stdout",
       "text": [
        "NONE try 137\n",
        "-> "
       ]
      },
      {
       "output_type": "stream",
       "stream": "stdout",
       "text": [
        "-> ^ "
       ]
      },
      {
       "output_type": "stream",
       "stream": "stdout",
       "text": [
        "^ -> "
       ]
      },
      {
       "output_type": "stream",
       "stream": "stdout",
       "text": [
        "NONE try 138\n",
        "-> "
       ]
      },
      {
       "output_type": "stream",
       "stream": "stdout",
       "text": [
        "-> ^ "
       ]
      },
      {
       "output_type": "stream",
       "stream": "stdout",
       "text": [
        "^ -> "
       ]
      },
      {
       "output_type": "stream",
       "stream": "stdout",
       "text": [
        "NONE try 139\n",
        "-> "
       ]
      },
      {
       "output_type": "stream",
       "stream": "stdout",
       "text": [
        "-> ^ "
       ]
      },
      {
       "output_type": "stream",
       "stream": "stdout",
       "text": [
        "^ "
       ]
      },
      {
       "output_type": "stream",
       "stream": "stdout",
       "text": [
        "-> "
       ]
      },
      {
       "output_type": "stream",
       "stream": "stdout",
       "text": [
        "NONE try 140\n",
        "->"
       ]
      },
      {
       "output_type": "stream",
       "stream": "stdout",
       "text": [
        " -> ^ "
       ]
      },
      {
       "output_type": "stream",
       "stream": "stdout",
       "text": [
        "^ -> "
       ]
      },
      {
       "output_type": "stream",
       "stream": "stdout",
       "text": [
        "NONE try 141\n",
        "-> "
       ]
      },
      {
       "output_type": "stream",
       "stream": "stdout",
       "text": [
        "-> ^ "
       ]
      },
      {
       "output_type": "stream",
       "stream": "stdout",
       "text": [
        "^ -> "
       ]
      },
      {
       "output_type": "stream",
       "stream": "stdout",
       "text": [
        "NONE try 142\n",
        "-> "
       ]
      },
      {
       "output_type": "stream",
       "stream": "stdout",
       "text": [
        "-> ^ "
       ]
      },
      {
       "output_type": "stream",
       "stream": "stdout",
       "text": [
        "^ -> "
       ]
      },
      {
       "output_type": "stream",
       "stream": "stdout",
       "text": [
        "NONE try 143\n",
        "-> "
       ]
      },
      {
       "output_type": "stream",
       "stream": "stdout",
       "text": [
        "-> ^ "
       ]
      },
      {
       "output_type": "stream",
       "stream": "stdout",
       "text": [
        "^ ->"
       ]
      },
      {
       "output_type": "stream",
       "stream": "stdout",
       "text": [
        " NONE try 144\n",
        "-> "
       ]
      },
      {
       "output_type": "stream",
       "stream": "stdout",
       "text": [
        "-> "
       ]
      },
      {
       "output_type": "stream",
       "stream": "stdout",
       "text": [
        "^ "
       ]
      },
      {
       "output_type": "stream",
       "stream": "stdout",
       "text": [
        "^ -> "
       ]
      },
      {
       "output_type": "stream",
       "stream": "stdout",
       "text": [
        "NONE try 145\n",
        "-> "
       ]
      },
      {
       "output_type": "stream",
       "stream": "stdout",
       "text": [
        "-> ^ "
       ]
      },
      {
       "output_type": "stream",
       "stream": "stdout",
       "text": [
        "^ -> "
       ]
      },
      {
       "output_type": "stream",
       "stream": "stdout",
       "text": [
        "NONE try 146\n",
        "-> "
       ]
      },
      {
       "output_type": "stream",
       "stream": "stdout",
       "text": [
        "-> ^ "
       ]
      },
      {
       "output_type": "stream",
       "stream": "stdout",
       "text": [
        "^ -> "
       ]
      },
      {
       "output_type": "stream",
       "stream": "stdout",
       "text": [
        "NONE try 147\n",
        "-> "
       ]
      },
      {
       "output_type": "stream",
       "stream": "stdout",
       "text": [
        "-> ^ "
       ]
      },
      {
       "output_type": "stream",
       "stream": "stdout",
       "text": [
        "^ -> "
       ]
      },
      {
       "output_type": "stream",
       "stream": "stdout",
       "text": [
        "NONE try 148\n",
        "-> "
       ]
      },
      {
       "output_type": "stream",
       "stream": "stdout",
       "text": [
        "-> "
       ]
      },
      {
       "output_type": "stream",
       "stream": "stdout",
       "text": [
        "^ ^ "
       ]
      },
      {
       "output_type": "stream",
       "stream": "stdout",
       "text": [
        "-> NONE try 149\n",
        "->"
       ]
      },
      {
       "output_type": "stream",
       "stream": "stdout",
       "text": [
        " -> ^ "
       ]
      },
      {
       "output_type": "stream",
       "stream": "stdout",
       "text": [
        "^ -> "
       ]
      },
      {
       "output_type": "stream",
       "stream": "stdout",
       "text": [
        "NONE try 150\n",
        "-> "
       ]
      },
      {
       "output_type": "stream",
       "stream": "stdout",
       "text": [
        "-> "
       ]
      },
      {
       "output_type": "stream",
       "stream": "stdout",
       "text": [
        "^ "
       ]
      },
      {
       "output_type": "stream",
       "stream": "stdout",
       "text": [
        "^ -> "
       ]
      },
      {
       "output_type": "stream",
       "stream": "stdout",
       "text": [
        "NONE try 151\n",
        "-> "
       ]
      },
      {
       "output_type": "stream",
       "stream": "stdout",
       "text": [
        "-> ^ "
       ]
      },
      {
       "output_type": "stream",
       "stream": "stdout",
       "text": [
        "^ -> "
       ]
      },
      {
       "output_type": "stream",
       "stream": "stdout",
       "text": [
        "NONE try 152\n",
        "-> "
       ]
      },
      {
       "output_type": "stream",
       "stream": "stdout",
       "text": [
        "-> ^ "
       ]
      },
      {
       "output_type": "stream",
       "stream": "stdout",
       "text": [
        "^ -> "
       ]
      },
      {
       "output_type": "stream",
       "stream": "stdout",
       "text": [
        "NONE try 153\n",
        "-> "
       ]
      },
      {
       "output_type": "stream",
       "stream": "stdout",
       "text": [
        "-> ^ "
       ]
      },
      {
       "output_type": "stream",
       "stream": "stdout",
       "text": [
        "^ "
       ]
      },
      {
       "output_type": "stream",
       "stream": "stdout",
       "text": [
        "-> "
       ]
      },
      {
       "output_type": "stream",
       "stream": "stdout",
       "text": [
        "NONE try 154\n",
        "-> "
       ]
      },
      {
       "output_type": "stream",
       "stream": "stdout",
       "text": [
        "-> ^ "
       ]
      },
      {
       "output_type": "stream",
       "stream": "stdout",
       "text": [
        "^ -> "
       ]
      },
      {
       "output_type": "stream",
       "stream": "stdout",
       "text": [
        "NONE try 155\n",
        "-> "
       ]
      },
      {
       "output_type": "stream",
       "stream": "stdout",
       "text": [
        "-> ^ "
       ]
      },
      {
       "output_type": "stream",
       "stream": "stdout",
       "text": [
        "^ -> "
       ]
      },
      {
       "output_type": "stream",
       "stream": "stdout",
       "text": [
        "NONE try 156\n",
        "-> "
       ]
      },
      {
       "output_type": "stream",
       "stream": "stdout",
       "text": [
        "-> ^ "
       ]
      },
      {
       "output_type": "stream",
       "stream": "stdout",
       "text": [
        "^ -> "
       ]
      },
      {
       "output_type": "stream",
       "stream": "stdout",
       "text": [
        "NONE try 157\n",
        "-> "
       ]
      },
      {
       "output_type": "stream",
       "stream": "stdout",
       "text": [
        "-> ^ "
       ]
      },
      {
       "output_type": "stream",
       "stream": "stdout",
       "text": [
        "^ -> "
       ]
      },
      {
       "output_type": "stream",
       "stream": "stdout",
       "text": [
        "NONE try 158\n",
        "-> "
       ]
      },
      {
       "output_type": "stream",
       "stream": "stdout",
       "text": [
        "-> ^ "
       ]
      },
      {
       "output_type": "stream",
       "stream": "stdout",
       "text": [
        "^ -> "
       ]
      },
      {
       "output_type": "stream",
       "stream": "stdout",
       "text": [
        "NONE try 159\n",
        "-> "
       ]
      },
      {
       "output_type": "stream",
       "stream": "stdout",
       "text": [
        "-> ^ "
       ]
      },
      {
       "output_type": "stream",
       "stream": "stdout",
       "text": [
        "^ -> "
       ]
      },
      {
       "output_type": "stream",
       "stream": "stdout",
       "text": [
        "NONE try 160\n",
        "-> "
       ]
      },
      {
       "output_type": "stream",
       "stream": "stdout",
       "text": [
        "-> ^ "
       ]
      },
      {
       "output_type": "stream",
       "stream": "stdout",
       "text": [
        "^ -> "
       ]
      },
      {
       "output_type": "stream",
       "stream": "stdout",
       "text": [
        "NONE try 161\n",
        "-> "
       ]
      },
      {
       "output_type": "stream",
       "stream": "stdout",
       "text": [
        "-> ^ "
       ]
      },
      {
       "output_type": "stream",
       "stream": "stdout",
       "text": [
        "^ -> "
       ]
      },
      {
       "output_type": "stream",
       "stream": "stdout",
       "text": [
        "NONE try 162\n",
        "-> "
       ]
      },
      {
       "output_type": "stream",
       "stream": "stdout",
       "text": [
        "-> "
       ]
      },
      {
       "output_type": "stream",
       "stream": "stdout",
       "text": [
        "^ ^ "
       ]
      },
      {
       "output_type": "stream",
       "stream": "stdout",
       "text": [
        "-> NONE try 163\n",
        "->"
       ]
      },
      {
       "output_type": "stream",
       "stream": "stdout",
       "text": [
        " -> ^ "
       ]
      },
      {
       "output_type": "stream",
       "stream": "stdout",
       "text": [
        "^ -> "
       ]
      },
      {
       "output_type": "stream",
       "stream": "stdout",
       "text": [
        "NONE try 164\n",
        "-> "
       ]
      },
      {
       "output_type": "stream",
       "stream": "stdout",
       "text": [
        "-> ^ "
       ]
      },
      {
       "output_type": "stream",
       "stream": "stdout",
       "text": [
        "^ -> "
       ]
      },
      {
       "output_type": "stream",
       "stream": "stdout",
       "text": [
        "NONE try 165\n",
        "-> "
       ]
      },
      {
       "output_type": "stream",
       "stream": "stdout",
       "text": [
        "-> ^ "
       ]
      },
      {
       "output_type": "stream",
       "stream": "stdout",
       "text": [
        "^ -> "
       ]
      },
      {
       "output_type": "stream",
       "stream": "stdout",
       "text": [
        "NONE try 166\n",
        "-> "
       ]
      },
      {
       "output_type": "stream",
       "stream": "stdout",
       "text": [
        "-> ^ "
       ]
      },
      {
       "output_type": "stream",
       "stream": "stdout",
       "text": [
        "^ -> "
       ]
      },
      {
       "output_type": "stream",
       "stream": "stdout",
       "text": [
        "NONE try 167\n",
        "-> "
       ]
      },
      {
       "output_type": "stream",
       "stream": "stdout",
       "text": [
        "-> ^ "
       ]
      },
      {
       "output_type": "stream",
       "stream": "stdout",
       "text": [
        "^ -> "
       ]
      },
      {
       "output_type": "stream",
       "stream": "stdout",
       "text": [
        "NONE try 168\n",
        "-> "
       ]
      },
      {
       "output_type": "stream",
       "stream": "stdout",
       "text": [
        "-> ^ "
       ]
      },
      {
       "output_type": "stream",
       "stream": "stdout",
       "text": [
        "^ -> "
       ]
      },
      {
       "output_type": "stream",
       "stream": "stdout",
       "text": [
        "NONE try 169\n",
        "->"
       ]
      },
      {
       "output_type": "stream",
       "stream": "stdout",
       "text": [
        " -> ^ "
       ]
      },
      {
       "output_type": "stream",
       "stream": "stdout",
       "text": [
        "^ -> "
       ]
      },
      {
       "output_type": "stream",
       "stream": "stdout",
       "text": [
        "NONE try 170\n",
        "-> "
       ]
      },
      {
       "output_type": "stream",
       "stream": "stdout",
       "text": [
        "-> ^ "
       ]
      },
      {
       "output_type": "stream",
       "stream": "stdout",
       "text": [
        "^ -> "
       ]
      },
      {
       "output_type": "stream",
       "stream": "stdout",
       "text": [
        "NONE try 171\n",
        "->"
       ]
      },
      {
       "output_type": "stream",
       "stream": "stdout",
       "text": [
        " -> ^ "
       ]
      },
      {
       "output_type": "stream",
       "stream": "stdout",
       "text": [
        "^ -> "
       ]
      },
      {
       "output_type": "stream",
       "stream": "stdout",
       "text": [
        "NONE try 172\n",
        "-> "
       ]
      },
      {
       "output_type": "stream",
       "stream": "stdout",
       "text": [
        "-> "
       ]
      },
      {
       "output_type": "stream",
       "stream": "stdout",
       "text": [
        "^ "
       ]
      },
      {
       "output_type": "stream",
       "stream": "stdout",
       "text": [
        "^ -> "
       ]
      },
      {
       "output_type": "stream",
       "stream": "stdout",
       "text": [
        "NONE try 173\n",
        "-> "
       ]
      },
      {
       "output_type": "stream",
       "stream": "stdout",
       "text": [
        "-> ^ "
       ]
      },
      {
       "output_type": "stream",
       "stream": "stdout",
       "text": [
        "^ -> "
       ]
      },
      {
       "output_type": "stream",
       "stream": "stdout",
       "text": [
        "NONE try 174\n",
        "-> "
       ]
      },
      {
       "output_type": "stream",
       "stream": "stdout",
       "text": [
        "-> ^ "
       ]
      },
      {
       "output_type": "stream",
       "stream": "stdout",
       "text": [
        "^ -> "
       ]
      },
      {
       "output_type": "stream",
       "stream": "stdout",
       "text": [
        "NONE try 175\n",
        "-> "
       ]
      },
      {
       "output_type": "stream",
       "stream": "stdout",
       "text": [
        "-> ^ "
       ]
      },
      {
       "output_type": "stream",
       "stream": "stdout",
       "text": [
        "^ -> "
       ]
      },
      {
       "output_type": "stream",
       "stream": "stdout",
       "text": [
        "NONE try 176\n",
        "-> "
       ]
      },
      {
       "output_type": "stream",
       "stream": "stdout",
       "text": [
        "-> ^ "
       ]
      },
      {
       "output_type": "stream",
       "stream": "stdout",
       "text": [
        "^ -> "
       ]
      },
      {
       "output_type": "stream",
       "stream": "stdout",
       "text": [
        "NONE try 177\n",
        "-> "
       ]
      },
      {
       "output_type": "stream",
       "stream": "stdout",
       "text": [
        "-> ^ "
       ]
      },
      {
       "output_type": "stream",
       "stream": "stdout",
       "text": [
        "^ -> "
       ]
      },
      {
       "output_type": "stream",
       "stream": "stdout",
       "text": [
        "NONE try 178\n",
        "->"
       ]
      },
      {
       "output_type": "stream",
       "stream": "stdout",
       "text": [
        " -> ^ "
       ]
      },
      {
       "output_type": "stream",
       "stream": "stdout",
       "text": [
        "^ "
       ]
      },
      {
       "output_type": "stream",
       "stream": "stdout",
       "text": [
        "-> "
       ]
      },
      {
       "output_type": "stream",
       "stream": "stdout",
       "text": [
        "NONE try 179\n",
        "-> "
       ]
      },
      {
       "output_type": "stream",
       "stream": "stdout",
       "text": [
        "-> ^ "
       ]
      },
      {
       "output_type": "stream",
       "stream": "stdout",
       "text": [
        "^ -> "
       ]
      },
      {
       "output_type": "stream",
       "stream": "stdout",
       "text": [
        "NONE try 180\n",
        "-> "
       ]
      },
      {
       "output_type": "stream",
       "stream": "stdout",
       "text": [
        "-> ^ "
       ]
      },
      {
       "output_type": "stream",
       "stream": "stdout",
       "text": [
        "^ -> "
       ]
      },
      {
       "output_type": "stream",
       "stream": "stdout",
       "text": [
        "NONE try 181\n",
        "-> "
       ]
      },
      {
       "output_type": "stream",
       "stream": "stdout",
       "text": [
        "-> ^ "
       ]
      },
      {
       "output_type": "stream",
       "stream": "stdout",
       "text": [
        "^ -> "
       ]
      },
      {
       "output_type": "stream",
       "stream": "stdout",
       "text": [
        "NONE try 182\n",
        "-> "
       ]
      },
      {
       "output_type": "stream",
       "stream": "stdout",
       "text": [
        "-> ^ "
       ]
      },
      {
       "output_type": "stream",
       "stream": "stdout",
       "text": [
        "^ -> "
       ]
      },
      {
       "output_type": "stream",
       "stream": "stdout",
       "text": [
        "NONE try 183\n",
        "-> "
       ]
      },
      {
       "output_type": "stream",
       "stream": "stdout",
       "text": [
        "-> ^ "
       ]
      },
      {
       "output_type": "stream",
       "stream": "stdout",
       "text": [
        "^ -> "
       ]
      },
      {
       "output_type": "stream",
       "stream": "stdout",
       "text": [
        "NONE try 184\n",
        "-> "
       ]
      },
      {
       "output_type": "stream",
       "stream": "stdout",
       "text": [
        "-> ^ "
       ]
      },
      {
       "output_type": "stream",
       "stream": "stdout",
       "text": [
        "^ -> "
       ]
      },
      {
       "output_type": "stream",
       "stream": "stdout",
       "text": [
        "NONE try 185\n",
        "-> "
       ]
      },
      {
       "output_type": "stream",
       "stream": "stdout",
       "text": [
        "-> ^ "
       ]
      },
      {
       "output_type": "stream",
       "stream": "stdout",
       "text": [
        "^ -> "
       ]
      },
      {
       "output_type": "stream",
       "stream": "stdout",
       "text": [
        "NONE try 186\n",
        "-> "
       ]
      },
      {
       "output_type": "stream",
       "stream": "stdout",
       "text": [
        "-> ^ "
       ]
      },
      {
       "output_type": "stream",
       "stream": "stdout",
       "text": [
        "^ -> "
       ]
      },
      {
       "output_type": "stream",
       "stream": "stdout",
       "text": [
        "NONE try 187\n",
        "-> "
       ]
      },
      {
       "output_type": "stream",
       "stream": "stdout",
       "text": [
        "-> ^ "
       ]
      },
      {
       "output_type": "stream",
       "stream": "stdout",
       "text": [
        "^ -> "
       ]
      },
      {
       "output_type": "stream",
       "stream": "stdout",
       "text": [
        "NONE try 188\n",
        "->"
       ]
      },
      {
       "output_type": "stream",
       "stream": "stdout",
       "text": [
        " -> ^ "
       ]
      },
      {
       "output_type": "stream",
       "stream": "stdout",
       "text": [
        "^ -> "
       ]
      },
      {
       "output_type": "stream",
       "stream": "stdout",
       "text": [
        "NONE try 189\n",
        "-> "
       ]
      },
      {
       "output_type": "stream",
       "stream": "stdout",
       "text": [
        "-> ^ "
       ]
      },
      {
       "output_type": "stream",
       "stream": "stdout",
       "text": [
        "^ -> "
       ]
      },
      {
       "output_type": "stream",
       "stream": "stdout",
       "text": [
        "NONE try 190\n",
        "-> "
       ]
      },
      {
       "output_type": "stream",
       "stream": "stdout",
       "text": [
        "-> ^ "
       ]
      },
      {
       "output_type": "stream",
       "stream": "stdout",
       "text": [
        "^ -> "
       ]
      },
      {
       "output_type": "stream",
       "stream": "stdout",
       "text": [
        "NONE try 191\n",
        "-> "
       ]
      },
      {
       "output_type": "stream",
       "stream": "stdout",
       "text": [
        "-> ^ "
       ]
      },
      {
       "output_type": "stream",
       "stream": "stdout",
       "text": [
        "^ -> "
       ]
      },
      {
       "output_type": "stream",
       "stream": "stdout",
       "text": [
        "NONE try 192\n",
        "-> "
       ]
      },
      {
       "output_type": "stream",
       "stream": "stdout",
       "text": [
        "-> "
       ]
      },
      {
       "output_type": "stream",
       "stream": "stdout",
       "text": [
        "^ "
       ]
      },
      {
       "output_type": "stream",
       "stream": "stdout",
       "text": [
        "^ "
       ]
      },
      {
       "output_type": "stream",
       "stream": "stdout",
       "text": [
        "-> "
       ]
      },
      {
       "output_type": "stream",
       "stream": "stdout",
       "text": [
        "NONE try 193\n",
        "-> "
       ]
      },
      {
       "output_type": "stream",
       "stream": "stdout",
       "text": [
        "-> ^ "
       ]
      },
      {
       "output_type": "stream",
       "stream": "stdout",
       "text": [
        "^ -> "
       ]
      },
      {
       "output_type": "stream",
       "stream": "stdout",
       "text": [
        "NONE try 194\n",
        "-> "
       ]
      },
      {
       "output_type": "stream",
       "stream": "stdout",
       "text": [
        "-> ^ "
       ]
      },
      {
       "output_type": "stream",
       "stream": "stdout",
       "text": [
        "^ -> "
       ]
      },
      {
       "output_type": "stream",
       "stream": "stdout",
       "text": [
        "NONE try 195\n",
        "-> "
       ]
      },
      {
       "output_type": "stream",
       "stream": "stdout",
       "text": [
        "-> ^ "
       ]
      },
      {
       "output_type": "stream",
       "stream": "stdout",
       "text": [
        "^ -> "
       ]
      },
      {
       "output_type": "stream",
       "stream": "stdout",
       "text": [
        "NONE try 196\n",
        "->"
       ]
      },
      {
       "output_type": "stream",
       "stream": "stdout",
       "text": [
        " -> "
       ]
      },
      {
       "output_type": "stream",
       "stream": "stdout",
       "text": [
        "^ "
       ]
      },
      {
       "output_type": "stream",
       "stream": "stdout",
       "text": [
        "^ "
       ]
      },
      {
       "output_type": "stream",
       "stream": "stdout",
       "text": [
        "-> "
       ]
      },
      {
       "output_type": "stream",
       "stream": "stdout",
       "text": [
        "NONE try 197\n",
        "->"
       ]
      },
      {
       "output_type": "stream",
       "stream": "stdout",
       "text": [
        " -> ^ "
       ]
      },
      {
       "output_type": "stream",
       "stream": "stdout",
       "text": [
        "^ -> "
       ]
      },
      {
       "output_type": "stream",
       "stream": "stdout",
       "text": [
        "NONE try 198\n",
        "-> "
       ]
      },
      {
       "output_type": "stream",
       "stream": "stdout",
       "text": [
        "-> ^ "
       ]
      },
      {
       "output_type": "stream",
       "stream": "stdout",
       "text": [
        "^ -> "
       ]
      },
      {
       "output_type": "stream",
       "stream": "stdout",
       "text": [
        "NONE try 199\n",
        "-> "
       ]
      },
      {
       "output_type": "stream",
       "stream": "stdout",
       "text": [
        "-> ^ "
       ]
      },
      {
       "output_type": "stream",
       "stream": "stdout",
       "text": [
        "^ -> "
       ]
      },
      {
       "output_type": "stream",
       "stream": "stdout",
       "text": [
        "NONE try 200\n",
        "-> "
       ]
      },
      {
       "output_type": "stream",
       "stream": "stdout",
       "text": [
        "-> ^ "
       ]
      },
      {
       "output_type": "stream",
       "stream": "stdout",
       "text": [
        "^ "
       ]
      },
      {
       "output_type": "stream",
       "stream": "stdout",
       "text": [
        "-> "
       ]
      },
      {
       "output_type": "stream",
       "stream": "stdout",
       "text": [
        "NONE try 201\n",
        "->"
       ]
      },
      {
       "output_type": "stream",
       "stream": "stdout",
       "text": [
        " -> ^ "
       ]
      },
      {
       "output_type": "stream",
       "stream": "stdout",
       "text": [
        "^ "
       ]
      },
      {
       "output_type": "stream",
       "stream": "stdout",
       "text": [
        "-> "
       ]
      },
      {
       "output_type": "stream",
       "stream": "stdout",
       "text": [
        "NONE try 202\n",
        "->"
       ]
      },
      {
       "output_type": "stream",
       "stream": "stdout",
       "text": [
        " -> "
       ]
      },
      {
       "output_type": "stream",
       "stream": "stdout",
       "text": [
        "^ "
       ]
      },
      {
       "output_type": "stream",
       "stream": "stdout",
       "text": [
        "^ "
       ]
      },
      {
       "output_type": "stream",
       "stream": "stdout",
       "text": [
        "-> "
       ]
      },
      {
       "output_type": "stream",
       "stream": "stdout",
       "text": [
        "NONE try 203\n",
        "-> "
       ]
      },
      {
       "output_type": "stream",
       "stream": "stdout",
       "text": [
        "-> ^ "
       ]
      },
      {
       "output_type": "stream",
       "stream": "stdout",
       "text": [
        "^ -> "
       ]
      },
      {
       "output_type": "stream",
       "stream": "stdout",
       "text": [
        "NONE try 204\n",
        "-> "
       ]
      },
      {
       "output_type": "stream",
       "stream": "stdout",
       "text": [
        "-> ^ "
       ]
      },
      {
       "output_type": "stream",
       "stream": "stdout",
       "text": [
        "^ -> "
       ]
      },
      {
       "output_type": "stream",
       "stream": "stdout",
       "text": [
        "NONE try 205\n",
        "-> "
       ]
      },
      {
       "output_type": "stream",
       "stream": "stdout",
       "text": [
        "-> ^ "
       ]
      },
      {
       "output_type": "stream",
       "stream": "stdout",
       "text": [
        "^ -> "
       ]
      },
      {
       "output_type": "stream",
       "stream": "stdout",
       "text": [
        "NONE try 206\n",
        "-> "
       ]
      },
      {
       "output_type": "stream",
       "stream": "stdout",
       "text": [
        "-> ^ "
       ]
      },
      {
       "output_type": "stream",
       "stream": "stdout",
       "text": [
        "^ -> "
       ]
      },
      {
       "output_type": "stream",
       "stream": "stdout",
       "text": [
        "NONE try 207\n",
        "-> "
       ]
      },
      {
       "output_type": "stream",
       "stream": "stdout",
       "text": [
        "-> ^ "
       ]
      },
      {
       "output_type": "stream",
       "stream": "stdout",
       "text": [
        "^ "
       ]
      },
      {
       "output_type": "stream",
       "stream": "stdout",
       "text": [
        "-> "
       ]
      },
      {
       "output_type": "stream",
       "stream": "stdout",
       "text": [
        "NONE try 208\n",
        "->"
       ]
      },
      {
       "output_type": "stream",
       "stream": "stdout",
       "text": [
        " -> "
       ]
      },
      {
       "output_type": "stream",
       "stream": "stdout",
       "text": [
        "^ "
       ]
      },
      {
       "output_type": "stream",
       "stream": "stdout",
       "text": [
        "^ "
       ]
      },
      {
       "output_type": "stream",
       "stream": "stdout",
       "text": [
        "-> NONE try 209\n",
        "->"
       ]
      },
      {
       "output_type": "stream",
       "stream": "stdout",
       "text": [
        " -> ^ "
       ]
      },
      {
       "output_type": "stream",
       "stream": "stdout",
       "text": [
        "^ -> "
       ]
      },
      {
       "output_type": "stream",
       "stream": "stdout",
       "text": [
        "NONE try 210\n",
        "-> "
       ]
      },
      {
       "output_type": "stream",
       "stream": "stdout",
       "text": [
        "-> ^ "
       ]
      },
      {
       "output_type": "stream",
       "stream": "stdout",
       "text": [
        "^ -> "
       ]
      },
      {
       "output_type": "stream",
       "stream": "stdout",
       "text": [
        "NONE try 211\n",
        "-> "
       ]
      },
      {
       "output_type": "stream",
       "stream": "stdout",
       "text": [
        "-> ^ "
       ]
      },
      {
       "output_type": "stream",
       "stream": "stdout",
       "text": [
        "^ "
       ]
      },
      {
       "output_type": "stream",
       "stream": "stdout",
       "text": [
        "-> "
       ]
      },
      {
       "output_type": "stream",
       "stream": "stdout",
       "text": [
        "NONE try 212\n",
        "->"
       ]
      },
      {
       "output_type": "stream",
       "stream": "stdout",
       "text": [
        " -> ^ "
       ]
      },
      {
       "output_type": "stream",
       "stream": "stdout",
       "text": [
        "^ -> "
       ]
      },
      {
       "output_type": "stream",
       "stream": "stdout",
       "text": [
        "NONE try 213\n",
        "-> "
       ]
      },
      {
       "output_type": "stream",
       "stream": "stdout",
       "text": [
        "-> ^ "
       ]
      },
      {
       "output_type": "stream",
       "stream": "stdout",
       "text": [
        "^ -> "
       ]
      },
      {
       "output_type": "stream",
       "stream": "stdout",
       "text": [
        "NONE try 214\n",
        "->"
       ]
      },
      {
       "output_type": "stream",
       "stream": "stdout",
       "text": [
        " -> ^ "
       ]
      },
      {
       "output_type": "stream",
       "stream": "stdout",
       "text": [
        "^ -> "
       ]
      },
      {
       "output_type": "stream",
       "stream": "stdout",
       "text": [
        "NONE try 215\n",
        "-> "
       ]
      },
      {
       "output_type": "stream",
       "stream": "stdout",
       "text": [
        "-> "
       ]
      },
      {
       "output_type": "stream",
       "stream": "stdout",
       "text": [
        "^ "
       ]
      },
      {
       "output_type": "stream",
       "stream": "stdout",
       "text": [
        "^ -> "
       ]
      },
      {
       "output_type": "stream",
       "stream": "stdout",
       "text": [
        "NONE try 216\n",
        "-> "
       ]
      },
      {
       "output_type": "stream",
       "stream": "stdout",
       "text": [
        "-> ^ "
       ]
      },
      {
       "output_type": "stream",
       "stream": "stdout",
       "text": [
        "^ -> "
       ]
      },
      {
       "output_type": "stream",
       "stream": "stdout",
       "text": [
        "NONE try 217\n",
        "-> "
       ]
      },
      {
       "output_type": "stream",
       "stream": "stdout",
       "text": [
        "-> ^ "
       ]
      },
      {
       "output_type": "stream",
       "stream": "stdout",
       "text": [
        "^ -> "
       ]
      },
      {
       "output_type": "stream",
       "stream": "stdout",
       "text": [
        "NONE try 218\n",
        "-> "
       ]
      },
      {
       "output_type": "stream",
       "stream": "stdout",
       "text": [
        "-> ^ "
       ]
      },
      {
       "output_type": "stream",
       "stream": "stdout",
       "text": [
        "^ -> "
       ]
      },
      {
       "output_type": "stream",
       "stream": "stdout",
       "text": [
        "NONE try 219\n",
        "-> "
       ]
      },
      {
       "output_type": "stream",
       "stream": "stdout",
       "text": [
        "-> ^ "
       ]
      },
      {
       "output_type": "stream",
       "stream": "stdout",
       "text": [
        "^ -> "
       ]
      },
      {
       "output_type": "stream",
       "stream": "stdout",
       "text": [
        "NONE try 220\n",
        "-> "
       ]
      },
      {
       "output_type": "stream",
       "stream": "stdout",
       "text": [
        "-> ^ "
       ]
      },
      {
       "output_type": "stream",
       "stream": "stdout",
       "text": [
        "^ -> "
       ]
      },
      {
       "output_type": "stream",
       "stream": "stdout",
       "text": [
        "NONE try 221\n",
        "->"
       ]
      },
      {
       "output_type": "stream",
       "stream": "stdout",
       "text": [
        " -> "
       ]
      },
      {
       "output_type": "stream",
       "stream": "stdout",
       "text": [
        "^ "
       ]
      },
      {
       "output_type": "stream",
       "stream": "stdout",
       "text": [
        "^ "
       ]
      },
      {
       "output_type": "stream",
       "stream": "stdout",
       "text": [
        "-> "
       ]
      },
      {
       "output_type": "stream",
       "stream": "stdout",
       "text": [
        "NONE try 222\n",
        "->"
       ]
      },
      {
       "output_type": "stream",
       "stream": "stdout",
       "text": [
        " -> "
       ]
      },
      {
       "output_type": "stream",
       "stream": "stdout",
       "text": [
        "^ "
       ]
      },
      {
       "output_type": "stream",
       "stream": "stdout",
       "text": [
        "^ "
       ]
      },
      {
       "output_type": "stream",
       "stream": "stdout",
       "text": [
        "-> NONE try 223\n",
        "->"
       ]
      },
      {
       "output_type": "stream",
       "stream": "stdout",
       "text": [
        " -> ^ "
       ]
      },
      {
       "output_type": "stream",
       "stream": "stdout",
       "text": [
        "^ -> "
       ]
      },
      {
       "output_type": "stream",
       "stream": "stdout",
       "text": [
        "NONE try 224\n",
        "-> "
       ]
      },
      {
       "output_type": "stream",
       "stream": "stdout",
       "text": [
        "-> ^ "
       ]
      },
      {
       "output_type": "stream",
       "stream": "stdout",
       "text": [
        "^ -> "
       ]
      },
      {
       "output_type": "stream",
       "stream": "stdout",
       "text": [
        "NONE try 225\n",
        "-> "
       ]
      },
      {
       "output_type": "stream",
       "stream": "stdout",
       "text": [
        "-> ^ "
       ]
      },
      {
       "output_type": "stream",
       "stream": "stdout",
       "text": [
        "^ -> "
       ]
      },
      {
       "output_type": "stream",
       "stream": "stdout",
       "text": [
        "NONE try 226\n",
        "-> "
       ]
      },
      {
       "output_type": "stream",
       "stream": "stdout",
       "text": [
        "-> ^ "
       ]
      },
      {
       "output_type": "stream",
       "stream": "stdout",
       "text": [
        "^ -> "
       ]
      },
      {
       "output_type": "stream",
       "stream": "stdout",
       "text": [
        "NONE try 227\n",
        "-> "
       ]
      },
      {
       "output_type": "stream",
       "stream": "stdout",
       "text": [
        "-> "
       ]
      },
      {
       "output_type": "stream",
       "stream": "stdout",
       "text": [
        "^ ^ "
       ]
      },
      {
       "output_type": "stream",
       "stream": "stdout",
       "text": [
        "-> NONE try 228\n",
        "->"
       ]
      },
      {
       "output_type": "stream",
       "stream": "stdout",
       "text": [
        " -> ^ "
       ]
      },
      {
       "output_type": "stream",
       "stream": "stdout",
       "text": [
        "^ -> "
       ]
      },
      {
       "output_type": "stream",
       "stream": "stdout",
       "text": [
        "NONE try 229\n",
        "-> "
       ]
      },
      {
       "output_type": "stream",
       "stream": "stdout",
       "text": [
        "-> ^ "
       ]
      },
      {
       "output_type": "stream",
       "stream": "stdout",
       "text": [
        "^ -> "
       ]
      },
      {
       "output_type": "stream",
       "stream": "stdout",
       "text": [
        "NONE try 230\n",
        "-> "
       ]
      },
      {
       "output_type": "stream",
       "stream": "stdout",
       "text": [
        "-> ^ "
       ]
      },
      {
       "output_type": "stream",
       "stream": "stdout",
       "text": [
        "^ -> "
       ]
      },
      {
       "output_type": "stream",
       "stream": "stdout",
       "text": [
        "NONE try 231\n",
        "-> "
       ]
      },
      {
       "output_type": "stream",
       "stream": "stdout",
       "text": [
        "-> ^ "
       ]
      },
      {
       "output_type": "stream",
       "stream": "stdout",
       "text": [
        "^ -> "
       ]
      },
      {
       "output_type": "stream",
       "stream": "stdout",
       "text": [
        "NONE try 232\n",
        "-> "
       ]
      },
      {
       "output_type": "stream",
       "stream": "stdout",
       "text": [
        "-> "
       ]
      },
      {
       "output_type": "stream",
       "stream": "stdout",
       "text": [
        "^ ^ "
       ]
      },
      {
       "output_type": "stream",
       "stream": "stdout",
       "text": [
        "-> "
       ]
      },
      {
       "output_type": "stream",
       "stream": "stdout",
       "text": [
        "NONE try 233\n",
        "->"
       ]
      },
      {
       "output_type": "stream",
       "stream": "stdout",
       "text": [
        " -> "
       ]
      },
      {
       "output_type": "stream",
       "stream": "stdout",
       "text": [
        "^ "
       ]
      },
      {
       "output_type": "stream",
       "stream": "stdout",
       "text": [
        "^ "
       ]
      },
      {
       "output_type": "stream",
       "stream": "stdout",
       "text": [
        "-> "
       ]
      },
      {
       "output_type": "stream",
       "stream": "stdout",
       "text": [
        "NONE try 234\n",
        "->"
       ]
      },
      {
       "output_type": "stream",
       "stream": "stdout",
       "text": [
        " -> "
       ]
      },
      {
       "output_type": "stream",
       "stream": "stdout",
       "text": [
        "^ "
       ]
      },
      {
       "output_type": "stream",
       "stream": "stdout",
       "text": [
        "^ "
       ]
      },
      {
       "output_type": "stream",
       "stream": "stdout",
       "text": [
        "-> "
       ]
      },
      {
       "output_type": "stream",
       "stream": "stdout",
       "text": [
        "NONE try 235\n",
        "->"
       ]
      },
      {
       "output_type": "stream",
       "stream": "stdout",
       "text": [
        " -> ^ "
       ]
      },
      {
       "output_type": "stream",
       "stream": "stdout",
       "text": [
        "^ "
       ]
      },
      {
       "output_type": "stream",
       "stream": "stdout",
       "text": [
        "-> "
       ]
      },
      {
       "output_type": "stream",
       "stream": "stdout",
       "text": [
        "NONE try 236\n",
        "-> "
       ]
      },
      {
       "output_type": "stream",
       "stream": "stdout",
       "text": [
        "-> ^ "
       ]
      },
      {
       "output_type": "stream",
       "stream": "stdout",
       "text": [
        "^ "
       ]
      },
      {
       "output_type": "stream",
       "stream": "stdout",
       "text": [
        "-> "
       ]
      },
      {
       "output_type": "stream",
       "stream": "stdout",
       "text": [
        "NONE try 237\n",
        "->"
       ]
      },
      {
       "output_type": "stream",
       "stream": "stdout",
       "text": [
        " -> "
       ]
      },
      {
       "output_type": "stream",
       "stream": "stdout",
       "text": [
        "^ "
       ]
      },
      {
       "output_type": "stream",
       "stream": "stdout",
       "text": [
        "^ -> "
       ]
      },
      {
       "output_type": "stream",
       "stream": "stdout",
       "text": [
        "NONE try 238\n",
        "-> "
       ]
      },
      {
       "output_type": "stream",
       "stream": "stdout",
       "text": [
        "-> "
       ]
      },
      {
       "output_type": "stream",
       "stream": "stdout",
       "text": [
        "^ "
       ]
      },
      {
       "output_type": "stream",
       "stream": "stdout",
       "text": [
        "^ -> "
       ]
      },
      {
       "output_type": "stream",
       "stream": "stdout",
       "text": [
        "NONE try 239\n",
        "-> "
       ]
      },
      {
       "output_type": "stream",
       "stream": "stdout",
       "text": [
        "-> ^ "
       ]
      },
      {
       "output_type": "stream",
       "stream": "stdout",
       "text": [
        "^ -> "
       ]
      },
      {
       "output_type": "stream",
       "stream": "stdout",
       "text": [
        "NONE try 240\n",
        "-> "
       ]
      },
      {
       "output_type": "stream",
       "stream": "stdout",
       "text": [
        "-> ^ "
       ]
      },
      {
       "output_type": "stream",
       "stream": "stdout",
       "text": [
        "^ -> "
       ]
      },
      {
       "output_type": "stream",
       "stream": "stdout",
       "text": [
        "NONE try 241\n",
        "-> "
       ]
      },
      {
       "output_type": "stream",
       "stream": "stdout",
       "text": [
        "-> ^ "
       ]
      },
      {
       "output_type": "stream",
       "stream": "stdout",
       "text": [
        "^ "
       ]
      },
      {
       "output_type": "stream",
       "stream": "stdout",
       "text": [
        "-> "
       ]
      },
      {
       "output_type": "stream",
       "stream": "stdout",
       "text": [
        "NONE try 242\n",
        "-> "
       ]
      },
      {
       "output_type": "stream",
       "stream": "stdout",
       "text": [
        "-> ^ "
       ]
      },
      {
       "output_type": "stream",
       "stream": "stdout",
       "text": [
        "^ -> "
       ]
      },
      {
       "output_type": "stream",
       "stream": "stdout",
       "text": [
        "NONE try 243\n",
        "-> "
       ]
      },
      {
       "output_type": "stream",
       "stream": "stdout",
       "text": [
        "-> "
       ]
      },
      {
       "output_type": "stream",
       "stream": "stdout",
       "text": [
        "^ "
       ]
      },
      {
       "output_type": "stream",
       "stream": "stdout",
       "text": [
        "^ -> "
       ]
      },
      {
       "output_type": "stream",
       "stream": "stdout",
       "text": [
        "NONE try 244\n",
        "-> "
       ]
      },
      {
       "output_type": "stream",
       "stream": "stdout",
       "text": [
        "-> "
       ]
      },
      {
       "output_type": "stream",
       "stream": "stdout",
       "text": [
        "^ ^ "
       ]
      },
      {
       "output_type": "stream",
       "stream": "stdout",
       "text": [
        "-> NONE try 245\n",
        "->"
       ]
      },
      {
       "output_type": "stream",
       "stream": "stdout",
       "text": [
        " -> ^ "
       ]
      },
      {
       "output_type": "stream",
       "stream": "stdout",
       "text": [
        "^ -> "
       ]
      },
      {
       "output_type": "stream",
       "stream": "stdout",
       "text": [
        "NONE try 246\n",
        "-> "
       ]
      },
      {
       "output_type": "stream",
       "stream": "stdout",
       "text": [
        "-> ^ "
       ]
      },
      {
       "output_type": "stream",
       "stream": "stdout",
       "text": [
        "^ -> "
       ]
      },
      {
       "output_type": "stream",
       "stream": "stdout",
       "text": [
        "NONE try 247\n",
        "-> "
       ]
      },
      {
       "output_type": "stream",
       "stream": "stdout",
       "text": [
        "-> ^ "
       ]
      },
      {
       "output_type": "stream",
       "stream": "stdout",
       "text": [
        "^ -> "
       ]
      },
      {
       "output_type": "stream",
       "stream": "stdout",
       "text": [
        "NONE try 248\n",
        "-> "
       ]
      },
      {
       "output_type": "stream",
       "stream": "stdout",
       "text": [
        "-> "
       ]
      },
      {
       "output_type": "stream",
       "stream": "stdout",
       "text": [
        "^ "
       ]
      },
      {
       "output_type": "stream",
       "stream": "stdout",
       "text": [
        "^ "
       ]
      },
      {
       "output_type": "stream",
       "stream": "stdout",
       "text": [
        "-> NONE try 249\n",
        "->"
       ]
      },
      {
       "output_type": "stream",
       "stream": "stdout",
       "text": [
        " -> ^ "
       ]
      },
      {
       "output_type": "stream",
       "stream": "stdout",
       "text": [
        "^ -> "
       ]
      },
      {
       "output_type": "stream",
       "stream": "stdout",
       "text": [
        "NONE try 250\n",
        "-> "
       ]
      },
      {
       "output_type": "stream",
       "stream": "stdout",
       "text": [
        "-> ^ "
       ]
      },
      {
       "output_type": "stream",
       "stream": "stdout",
       "text": [
        "^ -> "
       ]
      },
      {
       "output_type": "stream",
       "stream": "stdout",
       "text": [
        "NONE try 251\n",
        "-> "
       ]
      },
      {
       "output_type": "stream",
       "stream": "stdout",
       "text": [
        "-> ^ "
       ]
      },
      {
       "output_type": "stream",
       "stream": "stdout",
       "text": [
        "^ -> "
       ]
      },
      {
       "output_type": "stream",
       "stream": "stdout",
       "text": [
        "NONE try 252\n",
        "-> "
       ]
      },
      {
       "output_type": "stream",
       "stream": "stdout",
       "text": [
        "-> ^ "
       ]
      },
      {
       "output_type": "stream",
       "stream": "stdout",
       "text": [
        "^ -> "
       ]
      },
      {
       "output_type": "stream",
       "stream": "stdout",
       "text": [
        "NONE try 253\n",
        "-> "
       ]
      },
      {
       "output_type": "stream",
       "stream": "stdout",
       "text": [
        "-> ^ "
       ]
      },
      {
       "output_type": "stream",
       "stream": "stdout",
       "text": [
        "^ -> "
       ]
      },
      {
       "output_type": "stream",
       "stream": "stdout",
       "text": [
        "NONE try 254\n",
        "-> "
       ]
      },
      {
       "output_type": "stream",
       "stream": "stdout",
       "text": [
        "-> ^ "
       ]
      },
      {
       "output_type": "stream",
       "stream": "stdout",
       "text": [
        "^ -> "
       ]
      },
      {
       "output_type": "stream",
       "stream": "stdout",
       "text": [
        "NONE try 255\n",
        "-> "
       ]
      },
      {
       "output_type": "stream",
       "stream": "stdout",
       "text": [
        "-> ^ "
       ]
      },
      {
       "output_type": "stream",
       "stream": "stdout",
       "text": [
        "^ -> "
       ]
      },
      {
       "output_type": "stream",
       "stream": "stdout",
       "text": [
        "NONE try 256\n",
        "-> "
       ]
      },
      {
       "output_type": "stream",
       "stream": "stdout",
       "text": [
        "-> ^ "
       ]
      },
      {
       "output_type": "stream",
       "stream": "stdout",
       "text": [
        "^ -> "
       ]
      },
      {
       "output_type": "stream",
       "stream": "stdout",
       "text": [
        "NONE try 257\n",
        "-> "
       ]
      },
      {
       "output_type": "stream",
       "stream": "stdout",
       "text": [
        "-> "
       ]
      },
      {
       "output_type": "stream",
       "stream": "stdout",
       "text": [
        "^ "
       ]
      },
      {
       "output_type": "stream",
       "stream": "stdout",
       "text": [
        "^ "
       ]
      },
      {
       "output_type": "stream",
       "stream": "stdout",
       "text": [
        "-> "
       ]
      },
      {
       "output_type": "stream",
       "stream": "stdout",
       "text": [
        "NONE try 258\n",
        "-> "
       ]
      },
      {
       "output_type": "stream",
       "stream": "stdout",
       "text": [
        "-> "
       ]
      },
      {
       "output_type": "stream",
       "stream": "stdout",
       "text": [
        "^ "
       ]
      },
      {
       "output_type": "stream",
       "stream": "stdout",
       "text": [
        "^ ->"
       ]
      },
      {
       "output_type": "stream",
       "stream": "stdout",
       "text": [
        " NONE try 259\n",
        "-> "
       ]
      },
      {
       "output_type": "stream",
       "stream": "stdout",
       "text": [
        "-> "
       ]
      },
      {
       "output_type": "stream",
       "stream": "stdout",
       "text": [
        "^ "
       ]
      },
      {
       "output_type": "stream",
       "stream": "stdout",
       "text": [
        "^ -> "
       ]
      },
      {
       "output_type": "stream",
       "stream": "stdout",
       "text": [
        "NONE try 260\n",
        "-> "
       ]
      },
      {
       "output_type": "stream",
       "stream": "stdout",
       "text": [
        "-> ^ "
       ]
      },
      {
       "output_type": "stream",
       "stream": "stdout",
       "text": [
        "^ -> "
       ]
      },
      {
       "output_type": "stream",
       "stream": "stdout",
       "text": [
        "NONE try 261\n",
        "->"
       ]
      },
      {
       "output_type": "stream",
       "stream": "stdout",
       "text": [
        " -> ^ "
       ]
      },
      {
       "output_type": "stream",
       "stream": "stdout",
       "text": [
        "^ "
       ]
      },
      {
       "output_type": "stream",
       "stream": "stdout",
       "text": [
        "-> NONE try 262\n",
        "->"
       ]
      },
      {
       "output_type": "stream",
       "stream": "stdout",
       "text": [
        " -> ^ "
       ]
      },
      {
       "output_type": "stream",
       "stream": "stdout",
       "text": [
        "^ -> "
       ]
      },
      {
       "output_type": "stream",
       "stream": "stdout",
       "text": [
        "NONE try 263\n",
        "-> "
       ]
      },
      {
       "output_type": "stream",
       "stream": "stdout",
       "text": [
        "-> ^ "
       ]
      },
      {
       "output_type": "stream",
       "stream": "stdout",
       "text": [
        "^ -> "
       ]
      },
      {
       "output_type": "stream",
       "stream": "stdout",
       "text": [
        "NONE try 264\n",
        "-> "
       ]
      },
      {
       "output_type": "stream",
       "stream": "stdout",
       "text": [
        "-> ^ "
       ]
      },
      {
       "output_type": "stream",
       "stream": "stdout",
       "text": [
        "^ -> "
       ]
      },
      {
       "output_type": "stream",
       "stream": "stdout",
       "text": [
        "NONE try 265\n",
        "-> "
       ]
      },
      {
       "output_type": "stream",
       "stream": "stdout",
       "text": [
        "-> ^ "
       ]
      },
      {
       "output_type": "stream",
       "stream": "stdout",
       "text": [
        "^ -> "
       ]
      },
      {
       "output_type": "stream",
       "stream": "stdout",
       "text": [
        "NONE try 266\n",
        "->"
       ]
      },
      {
       "output_type": "stream",
       "stream": "stdout",
       "text": [
        " -> ^ "
       ]
      },
      {
       "output_type": "stream",
       "stream": "stdout",
       "text": [
        "^ -> "
       ]
      },
      {
       "output_type": "stream",
       "stream": "stdout",
       "text": [
        "NONE try 267\n",
        "-> "
       ]
      },
      {
       "output_type": "stream",
       "stream": "stdout",
       "text": [
        "-> ^ "
       ]
      },
      {
       "output_type": "stream",
       "stream": "stdout",
       "text": [
        "^ -> "
       ]
      },
      {
       "output_type": "stream",
       "stream": "stdout",
       "text": [
        "NONE try 268\n",
        "->"
       ]
      },
      {
       "output_type": "stream",
       "stream": "stdout",
       "text": [
        " -> "
       ]
      },
      {
       "output_type": "stream",
       "stream": "stdout",
       "text": [
        "^ "
       ]
      },
      {
       "output_type": "stream",
       "stream": "stdout",
       "text": [
        "^ "
       ]
      },
      {
       "output_type": "stream",
       "stream": "stdout",
       "text": [
        "-> "
       ]
      },
      {
       "output_type": "stream",
       "stream": "stdout",
       "text": [
        "NONE try 269\n",
        "->"
       ]
      },
      {
       "output_type": "stream",
       "stream": "stdout",
       "text": [
        " -> ^ "
       ]
      },
      {
       "output_type": "stream",
       "stream": "stdout",
       "text": [
        "^ "
       ]
      },
      {
       "output_type": "stream",
       "stream": "stdout",
       "text": [
        "-> "
       ]
      },
      {
       "output_type": "stream",
       "stream": "stdout",
       "text": [
        "NONE try 270\n",
        "->"
       ]
      },
      {
       "output_type": "stream",
       "stream": "stdout",
       "text": [
        " -> ^ "
       ]
      },
      {
       "output_type": "stream",
       "stream": "stdout",
       "text": [
        "^ -> "
       ]
      },
      {
       "output_type": "stream",
       "stream": "stdout",
       "text": [
        "NONE try 271\n",
        "-> "
       ]
      },
      {
       "output_type": "stream",
       "stream": "stdout",
       "text": [
        "-> ^ "
       ]
      },
      {
       "output_type": "stream",
       "stream": "stdout",
       "text": [
        "^ -> "
       ]
      },
      {
       "output_type": "stream",
       "stream": "stdout",
       "text": [
        "NONE try 272\n",
        "-> "
       ]
      },
      {
       "output_type": "stream",
       "stream": "stdout",
       "text": [
        "-> ^ "
       ]
      },
      {
       "output_type": "stream",
       "stream": "stdout",
       "text": [
        "^ -> "
       ]
      },
      {
       "output_type": "stream",
       "stream": "stdout",
       "text": [
        "NONE try 273\n",
        "->"
       ]
      },
      {
       "output_type": "stream",
       "stream": "stdout",
       "text": [
        " -> ^ "
       ]
      },
      {
       "output_type": "stream",
       "stream": "stdout",
       "text": [
        "^ -> "
       ]
      },
      {
       "output_type": "stream",
       "stream": "stdout",
       "text": [
        "NONE try 274\n",
        "-> "
       ]
      },
      {
       "output_type": "stream",
       "stream": "stdout",
       "text": [
        "-> ^ "
       ]
      },
      {
       "output_type": "stream",
       "stream": "stdout",
       "text": [
        "^ -> "
       ]
      },
      {
       "output_type": "stream",
       "stream": "stdout",
       "text": [
        "NONE try 275\n",
        "-> "
       ]
      },
      {
       "output_type": "stream",
       "stream": "stdout",
       "text": [
        "-> ^ "
       ]
      },
      {
       "output_type": "stream",
       "stream": "stdout",
       "text": [
        "^ -> "
       ]
      },
      {
       "output_type": "stream",
       "stream": "stdout",
       "text": [
        "NONE try 276\n",
        "-> "
       ]
      },
      {
       "output_type": "stream",
       "stream": "stdout",
       "text": [
        "-> ^ "
       ]
      },
      {
       "output_type": "stream",
       "stream": "stdout",
       "text": [
        "^ -> "
       ]
      },
      {
       "output_type": "stream",
       "stream": "stdout",
       "text": [
        "NONE try 277\n",
        "-> "
       ]
      },
      {
       "output_type": "stream",
       "stream": "stdout",
       "text": [
        "-> "
       ]
      },
      {
       "output_type": "stream",
       "stream": "stdout",
       "text": [
        "^ ^ "
       ]
      },
      {
       "output_type": "stream",
       "stream": "stdout",
       "text": [
        "-> NONE try 278\n",
        "->"
       ]
      },
      {
       "output_type": "stream",
       "stream": "stdout",
       "text": [
        " -> ^ "
       ]
      },
      {
       "output_type": "stream",
       "stream": "stdout",
       "text": [
        "^ -> "
       ]
      },
      {
       "output_type": "stream",
       "stream": "stdout",
       "text": [
        "NONE try 279\n",
        "-> "
       ]
      },
      {
       "output_type": "stream",
       "stream": "stdout",
       "text": [
        "-> ^ "
       ]
      },
      {
       "output_type": "stream",
       "stream": "stdout",
       "text": [
        "^ -> "
       ]
      },
      {
       "output_type": "stream",
       "stream": "stdout",
       "text": [
        "NONE try 280\n",
        "-> "
       ]
      },
      {
       "output_type": "stream",
       "stream": "stdout",
       "text": [
        "-> ^ "
       ]
      },
      {
       "output_type": "stream",
       "stream": "stdout",
       "text": [
        "^ -> "
       ]
      },
      {
       "output_type": "stream",
       "stream": "stdout",
       "text": [
        "NONE try 281\n",
        "-> "
       ]
      },
      {
       "output_type": "stream",
       "stream": "stdout",
       "text": [
        "-> ^ "
       ]
      },
      {
       "output_type": "stream",
       "stream": "stdout",
       "text": [
        "^ -> "
       ]
      },
      {
       "output_type": "stream",
       "stream": "stdout",
       "text": [
        "NONE try 282\n",
        "-> "
       ]
      },
      {
       "output_type": "stream",
       "stream": "stdout",
       "text": [
        "-> "
       ]
      },
      {
       "output_type": "stream",
       "stream": "stdout",
       "text": [
        "^ ^ "
       ]
      },
      {
       "output_type": "stream",
       "stream": "stdout",
       "text": [
        "-> NONE try 283\n",
        "->"
       ]
      },
      {
       "output_type": "stream",
       "stream": "stdout",
       "text": [
        " -> ^ "
       ]
      },
      {
       "output_type": "stream",
       "stream": "stdout",
       "text": [
        "^ -> "
       ]
      },
      {
       "output_type": "stream",
       "stream": "stdout",
       "text": [
        "NONE try 284\n",
        "-> "
       ]
      },
      {
       "output_type": "stream",
       "stream": "stdout",
       "text": [
        "-> ^ "
       ]
      },
      {
       "output_type": "stream",
       "stream": "stdout",
       "text": [
        "^ -> "
       ]
      },
      {
       "output_type": "stream",
       "stream": "stdout",
       "text": [
        "NONE try 285\n",
        "-> "
       ]
      },
      {
       "output_type": "stream",
       "stream": "stdout",
       "text": [
        "-> ^ "
       ]
      },
      {
       "output_type": "stream",
       "stream": "stdout",
       "text": [
        "^ -> "
       ]
      },
      {
       "output_type": "stream",
       "stream": "stdout",
       "text": [
        "NONE try 286\n",
        "-> "
       ]
      },
      {
       "output_type": "stream",
       "stream": "stdout",
       "text": [
        "-> ^ "
       ]
      },
      {
       "output_type": "stream",
       "stream": "stdout",
       "text": [
        "^ -> "
       ]
      },
      {
       "output_type": "stream",
       "stream": "stdout",
       "text": [
        "NONE try 287\n",
        "-> "
       ]
      },
      {
       "output_type": "stream",
       "stream": "stdout",
       "text": [
        "-> ^ "
       ]
      },
      {
       "output_type": "stream",
       "stream": "stdout",
       "text": [
        "^ -> "
       ]
      },
      {
       "output_type": "stream",
       "stream": "stdout",
       "text": [
        "NONE try 288\n",
        "-> "
       ]
      },
      {
       "output_type": "stream",
       "stream": "stdout",
       "text": [
        "-> ^ "
       ]
      },
      {
       "output_type": "stream",
       "stream": "stdout",
       "text": [
        "^ -> "
       ]
      },
      {
       "output_type": "stream",
       "stream": "stdout",
       "text": [
        "NONE try 289\n",
        "-> "
       ]
      },
      {
       "output_type": "stream",
       "stream": "stdout",
       "text": [
        "-> ^ "
       ]
      },
      {
       "output_type": "stream",
       "stream": "stdout",
       "text": [
        "^ -> "
       ]
      },
      {
       "output_type": "stream",
       "stream": "stdout",
       "text": [
        "NONE try 290\n",
        "-> "
       ]
      },
      {
       "output_type": "stream",
       "stream": "stdout",
       "text": [
        "-> ^ "
       ]
      },
      {
       "output_type": "stream",
       "stream": "stdout",
       "text": [
        "^ -> "
       ]
      },
      {
       "output_type": "stream",
       "stream": "stdout",
       "text": [
        "NONE try 291\n",
        "->"
       ]
      },
      {
       "output_type": "stream",
       "stream": "stdout",
       "text": [
        " -> "
       ]
      },
      {
       "output_type": "stream",
       "stream": "stdout",
       "text": [
        "^ "
       ]
      },
      {
       "output_type": "stream",
       "stream": "stdout",
       "text": [
        "^ -> "
       ]
      },
      {
       "output_type": "stream",
       "stream": "stdout",
       "text": [
        "NONE try 292\n",
        "-> "
       ]
      },
      {
       "output_type": "stream",
       "stream": "stdout",
       "text": [
        "-> ^ "
       ]
      },
      {
       "output_type": "stream",
       "stream": "stdout",
       "text": [
        "^ -> "
       ]
      },
      {
       "output_type": "stream",
       "stream": "stdout",
       "text": [
        "NONE try 293\n",
        "-> "
       ]
      },
      {
       "output_type": "stream",
       "stream": "stdout",
       "text": [
        "-> ^ "
       ]
      },
      {
       "output_type": "stream",
       "stream": "stdout",
       "text": [
        "^ -> "
       ]
      },
      {
       "output_type": "stream",
       "stream": "stdout",
       "text": [
        "NONE try 294\n",
        "-> "
       ]
      },
      {
       "output_type": "stream",
       "stream": "stdout",
       "text": [
        "-> ^ "
       ]
      },
      {
       "output_type": "stream",
       "stream": "stdout",
       "text": [
        "^ -> "
       ]
      },
      {
       "output_type": "stream",
       "stream": "stdout",
       "text": [
        "NONE try 295\n",
        "-> "
       ]
      },
      {
       "output_type": "stream",
       "stream": "stdout",
       "text": [
        "-> "
       ]
      },
      {
       "output_type": "stream",
       "stream": "stdout",
       "text": [
        "^ "
       ]
      },
      {
       "output_type": "stream",
       "stream": "stdout",
       "text": [
        "^ -> "
       ]
      },
      {
       "output_type": "stream",
       "stream": "stdout",
       "text": [
        "NONE try 296\n",
        "-> "
       ]
      },
      {
       "output_type": "stream",
       "stream": "stdout",
       "text": [
        "-> ^ "
       ]
      },
      {
       "output_type": "stream",
       "stream": "stdout",
       "text": [
        "^ -> "
       ]
      },
      {
       "output_type": "stream",
       "stream": "stdout",
       "text": [
        "NONE try 297\n",
        "->"
       ]
      },
      {
       "output_type": "stream",
       "stream": "stdout",
       "text": [
        " -> ^ "
       ]
      },
      {
       "output_type": "stream",
       "stream": "stdout",
       "text": [
        "^ "
       ]
      },
      {
       "output_type": "stream",
       "stream": "stdout",
       "text": [
        "-> "
       ]
      },
      {
       "output_type": "stream",
       "stream": "stdout",
       "text": [
        "NONE try 298\n",
        "->"
       ]
      },
      {
       "output_type": "stream",
       "stream": "stdout",
       "text": [
        " -> ^ "
       ]
      },
      {
       "output_type": "stream",
       "stream": "stdout",
       "text": [
        "^ -> "
       ]
      },
      {
       "output_type": "stream",
       "stream": "stdout",
       "text": [
        "NONE try 299\n",
        "->"
       ]
      },
      {
       "output_type": "stream",
       "stream": "stdout",
       "text": [
        " -> ^ "
       ]
      },
      {
       "output_type": "stream",
       "stream": "stdout",
       "text": [
        "^ "
       ]
      },
      {
       "output_type": "stream",
       "stream": "stdout",
       "text": [
        "-> "
       ]
      },
      {
       "output_type": "stream",
       "stream": "stdout",
       "text": [
        "NONE Done. Everything Now.\n"
       ]
      }
     ],
     "prompt_number": 7
    },
    {
     "cell_type": "markdown",
     "metadata": {},
     "source": [
      "## Utility of all the states \n",
      "\n",
      "### Expected (according to the book): "
     ]
    },
    {
     "cell_type": "code",
     "collapsed": false,
     "input": [
      "utility"
     ],
     "language": "python",
     "metadata": {},
     "outputs": [
      {
       "html": [
        "<div style=\"max-height:1000px;max-width:1500px;overflow:auto;\">\n",
        "<table border=\"1\" class=\"dataframe\">\n",
        "  <thead>\n",
        "    <tr style=\"text-align: right;\">\n",
        "      <th></th>\n",
        "      <th></th>\n",
        "      <th>q_value</th>\n",
        "    </tr>\n",
        "    <tr>\n",
        "      <th>s0</th>\n",
        "      <th>s1</th>\n",
        "      <th></th>\n",
        "    </tr>\n",
        "  </thead>\n",
        "  <tbody>\n",
        "    <tr>\n",
        "      <th rowspan=\"4\" valign=\"top\">0</th>\n",
        "      <th>0</th>\n",
        "      <td> 0.705</td>\n",
        "    </tr>\n",
        "    <tr>\n",
        "      <th>1</th>\n",
        "      <td> 0.655</td>\n",
        "    </tr>\n",
        "    <tr>\n",
        "      <th>2</th>\n",
        "      <td> 0.611</td>\n",
        "    </tr>\n",
        "    <tr>\n",
        "      <th>3</th>\n",
        "      <td> 0.388</td>\n",
        "    </tr>\n",
        "    <tr>\n",
        "      <th rowspan=\"3\" valign=\"top\">1</th>\n",
        "      <th>0</th>\n",
        "      <td> 0.762</td>\n",
        "    </tr>\n",
        "    <tr>\n",
        "      <th>2</th>\n",
        "      <td> 0.660</td>\n",
        "    </tr>\n",
        "    <tr>\n",
        "      <th>3</th>\n",
        "      <td>-1.000</td>\n",
        "    </tr>\n",
        "    <tr>\n",
        "      <th rowspan=\"4\" valign=\"top\">2</th>\n",
        "      <th>0</th>\n",
        "      <td> 0.812</td>\n",
        "    </tr>\n",
        "    <tr>\n",
        "      <th>1</th>\n",
        "      <td> 0.868</td>\n",
        "    </tr>\n",
        "    <tr>\n",
        "      <th>2</th>\n",
        "      <td> 0.918</td>\n",
        "    </tr>\n",
        "    <tr>\n",
        "      <th>3</th>\n",
        "      <td> 1.000</td>\n",
        "    </tr>\n",
        "  </tbody>\n",
        "</table>\n",
        "</div>"
       ],
       "metadata": {},
       "output_type": "pyout",
       "prompt_number": 8,
       "text": [
        "       q_value\n",
        "s0 s1         \n",
        "0  0     0.705\n",
        "   1     0.655\n",
        "   2     0.611\n",
        "   3     0.388\n",
        "1  0     0.762\n",
        "   2     0.660\n",
        "   3    -1.000\n",
        "2  0     0.812\n",
        "   1     0.868\n",
        "   2     0.918\n",
        "   3     1.000"
       ]
      }
     ],
     "prompt_number": 8
    },
    {
     "cell_type": "markdown",
     "metadata": {},
     "source": [
      "### Actual"
     ]
    },
    {
     "cell_type": "code",
     "collapsed": false,
     "input": [
      "empirical_utility = pd.DataFrame(Q.groupby(level=['s0','s1'])['q_value'].max())\n",
      "empirical_utility"
     ],
     "language": "python",
     "metadata": {},
     "outputs": [
      {
       "html": [
        "<div style=\"max-height:1000px;max-width:1500px;overflow:auto;\">\n",
        "<table border=\"1\" class=\"dataframe\">\n",
        "  <thead>\n",
        "    <tr style=\"text-align: right;\">\n",
        "      <th></th>\n",
        "      <th></th>\n",
        "      <th>q_value</th>\n",
        "    </tr>\n",
        "    <tr>\n",
        "      <th>s0</th>\n",
        "      <th>s1</th>\n",
        "      <th></th>\n",
        "    </tr>\n",
        "  </thead>\n",
        "  <tbody>\n",
        "    <tr>\n",
        "      <th rowspan=\"4\" valign=\"top\">0</th>\n",
        "      <th>0</th>\n",
        "      <td> 0.217903</td>\n",
        "    </tr>\n",
        "    <tr>\n",
        "      <th>1</th>\n",
        "      <td> 0.448290</td>\n",
        "    </tr>\n",
        "    <tr>\n",
        "      <th>2</th>\n",
        "      <td> 0.667860</td>\n",
        "    </tr>\n",
        "    <tr>\n",
        "      <th>3</th>\n",
        "      <td>-0.040000</td>\n",
        "    </tr>\n",
        "    <tr>\n",
        "      <th rowspan=\"3\" valign=\"top\">1</th>\n",
        "      <th>0</th>\n",
        "      <td>-0.075851</td>\n",
        "    </tr>\n",
        "    <tr>\n",
        "      <th>2</th>\n",
        "      <td> 0.828083</td>\n",
        "    </tr>\n",
        "    <tr>\n",
        "      <th>3</th>\n",
        "      <td>-1.064351</td>\n",
        "    </tr>\n",
        "    <tr>\n",
        "      <th rowspan=\"4\" valign=\"top\">2</th>\n",
        "      <th>0</th>\n",
        "      <td> 0.034491</td>\n",
        "    </tr>\n",
        "    <tr>\n",
        "      <th>1</th>\n",
        "      <td> 0.396697</td>\n",
        "    </tr>\n",
        "    <tr>\n",
        "      <th>2</th>\n",
        "      <td> 0.942438</td>\n",
        "    </tr>\n",
        "    <tr>\n",
        "      <th>3</th>\n",
        "      <td> 1.073837</td>\n",
        "    </tr>\n",
        "  </tbody>\n",
        "</table>\n",
        "</div>"
       ],
       "metadata": {},
       "output_type": "pyout",
       "prompt_number": 9,
       "text": [
        "        q_value\n",
        "s0 s1          \n",
        "0  0   0.217903\n",
        "   1   0.448290\n",
        "   2   0.667860\n",
        "   3  -0.040000\n",
        "1  0  -0.075851\n",
        "   2   0.828083\n",
        "   3  -1.064351\n",
        "2  0   0.034491\n",
        "   1   0.396697\n",
        "   2   0.942438\n",
        "   3   1.073837"
       ]
      }
     ],
     "prompt_number": 9
    },
    {
     "cell_type": "markdown",
     "metadata": {},
     "source": [
      "### Difference"
     ]
    },
    {
     "cell_type": "code",
     "collapsed": false,
     "input": [
      "empirical_utility.subtract(utility).plot(kind='bar')"
     ],
     "language": "python",
     "metadata": {},
     "outputs": [
      {
       "metadata": {},
       "output_type": "pyout",
       "prompt_number": 10,
       "text": [
        "<matplotlib.axes.AxesSubplot at 0x7fd2b033d590>"
       ]
      },
      {
       "metadata": {},
       "output_type": "display_data",
       "png": "[encoded data removed]",
       "text": [
        "<matplotlib.figure.Figure at 0x7fd2b0330b50>"
       ]
      }
     ],
     "prompt_number": 10
    },
    {
     "cell_type": "markdown",
     "metadata": {},
     "source": [
      "### Conclusion"
     ]
    },
    {
     "cell_type": "markdown",
     "metadata": {},
     "source": [
      "The book is not that clear on which reward it uses for each case and don't say right away witch value of alpha it has chosen, just that it 'decays over time proportionally to the frequency an action-state pair is used'. Also Q-values just aproximate utilities and only converge in the long run so therefore theese are consitent results?"
     ]
    }
   ],
   "metadata": {}
  }
 ]
}