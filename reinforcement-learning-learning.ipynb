{
 "metadata": {
  "name": "",
  "signature": "sha256:388e69b8e0e4b3a178bde44c85133e3d4456100b1f9a465bb5d406412f3a3f6f"
 },
 "nbformat": 3,
 "nbformat_minor": 0,
 "worksheets": [
  {
   "cells": [
    {
     "cell_type": "code",
     "collapsed": false,
     "input": [
      "import numpy as np\n",
      "import pandas as pd"
     ],
     "language": "python",
     "metadata": {},
     "outputs": [],
     "prompt_number": 3
    },
    {
     "cell_type": "markdown",
     "metadata": {},
     "source": [
      "## Notation"
     ]
    },
    {
     "cell_type": "markdown",
     "metadata": {},
     "source": [
      "'The Book': This refers to the book: Russell, Stuart, and Peter Norvig. \"Artificial intelligence: a modern approach.\" (1995).\n",
      "\n",
      "State: State here is read as the index of a matrix. For instance in the Q matrix the position Q[0,1] corresponds to all the Q-values associated wit the state (0,1) for any given action. **Note that all the index here are 0-based as opposed to 1-based index in the book, also the book uses the notation (column, line) witch is confusing IMO so here (in the environ files) i'm using (line, column)**\n",
      "\n",
      "Action: This is one of the four possible choices for the agent at any given state, namely: LEFT, TOP, RIGHT, BOTTOM that will be represented in the algorith by the index 0, 1, 2 and 3 respectivelly "
     ]
    },
    {
     "cell_type": "markdown",
     "metadata": {},
     "source": [
      "## Reads the environment data"
     ]
    },
    {
     "cell_type": "code",
     "collapsed": true,
     "input": [
      "# The reward of the environment. For this experiment is either -0.04 for any valid non terminal \n",
      "# state and -1 and 1 for the terminal ones.\n",
      "rewards = pd.read_csv('/vagrant_data/src/reinforcement-learning-practice/rewards.csv', index_col=[0,1])\n",
      "\n",
      "# Basically is a list of valid actions. Don't really need to be file but.. meh, I prefer using my \n",
      "# regular text editor to edit large chunks of data\n",
      "q_values = pd.read_csv('/vagrant_data/src/reinforcement-learning-practice/q_values.csv', index_col=[0,1,2])\n",
      "\n",
      "# This is the expected utility written in the book, achived by faries\n",
      "utility = pd.read_csv('/vagrant_data/src/reinforcement-learning-practice/utility_values.csv', index_col=[0,1])"
     ],
     "language": "python",
     "metadata": {},
     "outputs": [],
     "prompt_number": 4
    },
    {
     "cell_type": "markdown",
     "metadata": {},
     "source": [
      "## Model parameters"
     ]
    },
    {
     "cell_type": "code",
     "collapsed": false,
     "input": [
      "# A percept represents an environment stimulus\n",
      "START_PERCEPT = {\n",
      "  'state': (0,0),\n",
      "  'reward': rewards.ix[0,0]['reward'],\n",
      "  'terminal': False\n",
      "}\n",
      "\n",
      "# Optimistic reward estimation\n",
      "R_PLUS = 2\n",
      "\n",
      "# At least how many times each state should be tried\n",
      "N_E = 5\n",
      "\n",
      "# Learning rate\n",
      "# 'n' is how many times that particular state-action pair have been tried\n",
      "def ALPHA(n):\n",
      "  return 1.0/n"
     ],
     "language": "python",
     "metadata": {},
     "outputs": [],
     "prompt_number": 5
    },
    {
     "cell_type": "markdown",
     "metadata": {},
     "source": [
      "## A few helper functions"
     ]
    },
    {
     "cell_type": "code",
     "collapsed": false,
     "input": [
      "# F: State, Action -> State\n",
      "# Calculates the next state based on the previous state plus the action\n",
      "def calculate_new_state_based_on_action(state, action):\n",
      "  state = (state[0]  , state[1]-1) if action[0] == 0 else state\n",
      "  state = (state[0]+1, state[1]  ) if action[0] == 1 else state\n",
      "  state = (state[0]  , state[1]+1) if action[0] == 2 else state\n",
      "  state = (state[0]-1, state[1]  ) if action[0] == 3 else state\n",
      "  return state\n",
      "\n",
      "# PICS OR DIDNT HAPPN\n",
      "pretty_action = {\n",
      "  0: '<-',\n",
      "  1: '^',\n",
      "  2: '->',\n",
      "  3: 'V',\n",
      "  4: 'NONE'\n",
      "}    "
     ],
     "language": "python",
     "metadata": {},
     "outputs": [],
     "prompt_number": 6
    },
    {
     "cell_type": "markdown",
     "metadata": {},
     "source": [
      "## Initializations"
     ]
    },
    {
     "cell_type": "code",
     "collapsed": false,
     "input": [
      "# A table containing the action-value pairs\n",
      "# Domain is State-index0 x State-index1 x Action\n",
      "Q = q_values.copy()\n",
      "\n",
      "# A table containing the state-action pairs\n",
      "# Domain is State-index0 x State-index1 x Action\n",
      "N = q_values.copy()\n",
      "\n",
      "# Last action taken\n",
      "a = None\n",
      "\n",
      "# Previous state\n",
      "i = None\n",
      "\n",
      "# Previous state's reward\n",
      "r = None\n",
      "\n",
      "# 'SOMETHING SOMETHING MADNESS SOMETHING SOMETHING DIFFERENT RESULTS' - Einstein\n",
      "np.random.seed = 100"
     ],
     "language": "python",
     "metadata": {},
     "outputs": [],
     "prompt_number": 7
    },
    {
     "cell_type": "markdown",
     "metadata": {},
     "source": [
      "# The main thing"
     ]
    },
    {
     "cell_type": "code",
     "collapsed": false,
     "input": [
      "# This is the main algorithm that decides the new action for the agent for a given percept\n",
      "def Q_learn_agent(percept):\n",
      "  global i, a, r, Q, N\n",
      "  j = percept['state']\n",
      "  if percept['terminal']:\n",
      "    Q.ix[i].ix[4] = percept['reward'] \n",
      "  if i:\n",
      "    N.ix[i].ix[a] += 1\n",
      "    Q.ix[i].ix[a] = Q.ix[i].ix[a] + ALPHA(N.ix[i].ix[a])*(r + np.max(Q.ix[j]) - Q.ix[i].ix[a])    \n",
      "  i = j\n",
      "  r = percept['reward']\n",
      "  a = choose_action(j)\n",
      "  return a\n",
      "\n",
      "# The exploratory function written in the literature, it decides wheter or not we already \n",
      "# explored enough and are ready to be greedy\n",
      "def exploratory_fuction(u, n):\n",
      "  return R_PLUS if n < N_E else u\n",
      "\n",
      "# This makes our exploratory function accept a vector instead of a scalar\n",
      "v_exploratory_function = np.vectorize(exploratory_fuction)\n",
      "\n",
      "# At state: 'j' choses something to do.\n",
      "def choose_action(j):\n",
      "  exploration_corrected_q_value = v_exploratory_function(Q.ix[j], N.ix[j])    \n",
      "  # This returns an array with True as value if the position in the array is maximum. \n",
      "  # Ex: [False True True False False] for the utilities: [ 0 2 2 1 .5 ]\n",
      "  all_max_mask = exploration_corrected_q_value == np.max(exploration_corrected_q_value)     \n",
      "  # This maps the previous array to the relative frequency of True values. Basicaly I'm giving equal probabability of \n",
      "  # being randomly chosen for each max value on the utility array, I.E Choose one of the best actions randomly\n",
      "  action_frequencies = map(lambda x: 1.0/np.count_nonzero(all_max_mask) if x else 0, all_max_mask)\n",
      "  # This choses an action represented by the range(0,5) given the probabilities set previously.   \n",
      "  chosen_action = np.random.choice(Q.ix[j].index.values, 1, p=action_frequencies)  \n",
      "  return chosen_action\n",
      "\n",
      "# This is the environment deciding what feedback to give to the agent\n",
      "def new_percept(new_action):\n",
      "  new_state = calculate_new_state_based_on_action(i, new_action)\n",
      "  return {\n",
      "    'state': new_state,\n",
      "    'reward': rewards.ix[new_state]['reward'],\n",
      "    'terminal': new_state == (1,3) or new_state == (2,3)\n",
      "  }\n",
      "\n",
      "# This is where the whole process start\n",
      "def learn(nepochs=300):\n",
      "  global start_state_utility\n",
      "  for epoch in xrange(1,nepochs):\n",
      "    current_percept = START_PERCEPT\n",
      "    while True:\n",
      "      new_action = Q_learn_agent(current_percept)\n",
      "      if new_action == 4: break # means we reached a terminal state, let's start over a new epoch\n",
      "      np = new_percept(new_action)\n",
      "      current_percept = np   \n",
      "  print(\"Done. Everything Now.\")"
     ],
     "language": "python",
     "metadata": {},
     "outputs": [],
     "prompt_number": 8
    },
    {
     "cell_type": "markdown",
     "metadata": {},
     "source": [
      "# Results"
     ]
    },
    {
     "cell_type": "code",
     "collapsed": false,
     "input": [
      "nepoch = 50\n",
      "learn()"
     ],
     "language": "python",
     "metadata": {},
     "outputs": [
      {
       "output_type": "stream",
       "stream": "stdout",
       "text": [
        "Done. Everything Now.\n"
       ]
      }
     ],
     "prompt_number": 9
    },
    {
     "cell_type": "markdown",
     "metadata": {},
     "source": [
      "## Utility of all the states \n",
      "\n",
      "### Expected (according to the book): "
     ]
    },
    {
     "cell_type": "code",
     "collapsed": false,
     "input": [
      "utility"
     ],
     "language": "python",
     "metadata": {},
     "outputs": [
      {
       "html": [
        "<div style=\"max-height:1000px;max-width:1500px;overflow:auto;\">\n",
        "<table border=\"1\" class=\"dataframe\">\n",
        "  <thead>\n",
        "    <tr style=\"text-align: right;\">\n",
        "      <th></th>\n",
        "      <th></th>\n",
        "      <th>q_value</th>\n",
        "    </tr>\n",
        "    <tr>\n",
        "      <th>s0</th>\n",
        "      <th>s1</th>\n",
        "      <th></th>\n",
        "    </tr>\n",
        "  </thead>\n",
        "  <tbody>\n",
        "    <tr>\n",
        "      <th rowspan=\"4\" valign=\"top\">0</th>\n",
        "      <th>0</th>\n",
        "      <td> 0.705</td>\n",
        "    </tr>\n",
        "    <tr>\n",
        "      <th>1</th>\n",
        "      <td> 0.655</td>\n",
        "    </tr>\n",
        "    <tr>\n",
        "      <th>2</th>\n",
        "      <td> 0.611</td>\n",
        "    </tr>\n",
        "    <tr>\n",
        "      <th>3</th>\n",
        "      <td> 0.388</td>\n",
        "    </tr>\n",
        "    <tr>\n",
        "      <th rowspan=\"3\" valign=\"top\">1</th>\n",
        "      <th>0</th>\n",
        "      <td> 0.762</td>\n",
        "    </tr>\n",
        "    <tr>\n",
        "      <th>2</th>\n",
        "      <td> 0.660</td>\n",
        "    </tr>\n",
        "    <tr>\n",
        "      <th>3</th>\n",
        "      <td>-1.000</td>\n",
        "    </tr>\n",
        "    <tr>\n",
        "      <th rowspan=\"4\" valign=\"top\">2</th>\n",
        "      <th>0</th>\n",
        "      <td> 0.812</td>\n",
        "    </tr>\n",
        "    <tr>\n",
        "      <th>1</th>\n",
        "      <td> 0.868</td>\n",
        "    </tr>\n",
        "    <tr>\n",
        "      <th>2</th>\n",
        "      <td> 0.918</td>\n",
        "    </tr>\n",
        "    <tr>\n",
        "      <th>3</th>\n",
        "      <td> 1.000</td>\n",
        "    </tr>\n",
        "  </tbody>\n",
        "</table>\n",
        "</div>"
       ],
       "metadata": {},
       "output_type": "pyout",
       "prompt_number": 10,
       "text": [
        "       q_value\n",
        "s0 s1         \n",
        "0  0     0.705\n",
        "   1     0.655\n",
        "   2     0.611\n",
        "   3     0.388\n",
        "1  0     0.762\n",
        "   2     0.660\n",
        "   3    -1.000\n",
        "2  0     0.812\n",
        "   1     0.868\n",
        "   2     0.918\n",
        "   3     1.000"
       ]
      }
     ],
     "prompt_number": 10
    },
    {
     "cell_type": "markdown",
     "metadata": {},
     "source": [
      "### Actual"
     ]
    },
    {
     "cell_type": "code",
     "collapsed": false,
     "input": [
      "empirical_utility = pd.DataFrame(Q.groupby(level=['s0','s1'])['q_value'].max())\n",
      "empirical_utility"
     ],
     "language": "python",
     "metadata": {},
     "outputs": [
      {
       "html": [
        "<div style=\"max-height:1000px;max-width:1500px;overflow:auto;\">\n",
        "<table border=\"1\" class=\"dataframe\">\n",
        "  <thead>\n",
        "    <tr style=\"text-align: right;\">\n",
        "      <th></th>\n",
        "      <th></th>\n",
        "      <th>q_value</th>\n",
        "    </tr>\n",
        "    <tr>\n",
        "      <th>s0</th>\n",
        "      <th>s1</th>\n",
        "      <th></th>\n",
        "    </tr>\n",
        "  </thead>\n",
        "  <tbody>\n",
        "    <tr>\n",
        "      <th rowspan=\"4\" valign=\"top\">0</th>\n",
        "      <th>0</th>\n",
        "      <td> 0.433699</td>\n",
        "    </tr>\n",
        "    <tr>\n",
        "      <th>1</th>\n",
        "      <td>-0.062485</td>\n",
        "    </tr>\n",
        "    <tr>\n",
        "      <th>2</th>\n",
        "      <td> 0.065559</td>\n",
        "    </tr>\n",
        "    <tr>\n",
        "      <th>3</th>\n",
        "      <td>-0.090943</td>\n",
        "    </tr>\n",
        "    <tr>\n",
        "      <th rowspan=\"3\" valign=\"top\">1</th>\n",
        "      <th>0</th>\n",
        "      <td> 0.621554</td>\n",
        "    </tr>\n",
        "    <tr>\n",
        "      <th>2</th>\n",
        "      <td> 0.467971</td>\n",
        "    </tr>\n",
        "    <tr>\n",
        "      <th>3</th>\n",
        "      <td>-1.068679</td>\n",
        "    </tr>\n",
        "    <tr>\n",
        "      <th rowspan=\"4\" valign=\"top\">2</th>\n",
        "      <th>0</th>\n",
        "      <td> 0.783511</td>\n",
        "    </tr>\n",
        "    <tr>\n",
        "      <th>1</th>\n",
        "      <td> 0.929457</td>\n",
        "    </tr>\n",
        "    <tr>\n",
        "      <th>2</th>\n",
        "      <td> 1.085615</td>\n",
        "    </tr>\n",
        "    <tr>\n",
        "      <th>3</th>\n",
        "      <td> 1.271198</td>\n",
        "    </tr>\n",
        "  </tbody>\n",
        "</table>\n",
        "</div>"
       ],
       "metadata": {},
       "output_type": "pyout",
       "prompt_number": 11,
       "text": [
        "        q_value\n",
        "s0 s1          \n",
        "0  0   0.433699\n",
        "   1  -0.062485\n",
        "   2   0.065559\n",
        "   3  -0.090943\n",
        "1  0   0.621554\n",
        "   2   0.467971\n",
        "   3  -1.068679\n",
        "2  0   0.783511\n",
        "   1   0.929457\n",
        "   2   1.085615\n",
        "   3   1.271198"
       ]
      }
     ],
     "prompt_number": 11
    },
    {
     "cell_type": "markdown",
     "metadata": {},
     "source": [
      "### Difference"
     ]
    },
    {
     "cell_type": "code",
     "collapsed": false,
     "input": [
      "empirical_utility.subtract(utility).plot(kind='bar')"
     ],
     "language": "python",
     "metadata": {},
     "outputs": [
      {
       "metadata": {},
       "output_type": "pyout",
       "prompt_number": 12,
       "text": [
        "<matplotlib.axes.AxesSubplot at 0x7fc450f69890>"
       ]
      },
      {
       "metadata": {},
       "output_type": "display_data",
       "png": "[encoded data removed]",
       "text": [
        "<matplotlib.figure.Figure at 0x7fc450f69350>"
       ]
      }
     ],
     "prompt_number": 12
    },
    {
     "cell_type": "markdown",
     "metadata": {},
     "source": [
      "### Conclusion"
     ]
    },
    {
     "cell_type": "markdown",
     "metadata": {},
     "source": [
      "The book is not that clear on which reward it uses for each case and don't say right away witch value of alpha it has chosen, just that it 'decays over time proportionally to the frequency an action-state pair is used'. Also Q-values just aproximate utilities and only converge in the long run so therefore theese are consitent results?"
     ]
    }
   ],
   "metadata": {}
  }
 ]
}