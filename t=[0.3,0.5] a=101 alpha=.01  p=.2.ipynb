{
 "metadata": {
  "name": "",
  "signature": "sha256:ca5fb41047433fe95fdeb5bdbc56b53c594a5f434fb5ad2de9ba05362944cb38"
 },
 "nbformat": 3,
 "nbformat_minor": 0,
 "worksheets": [
  {
   "cells": [
    {
     "cell_type": "code",
     "collapsed": false,
     "input": [
      "cd /vagrant_data/src/rl"
     ],
     "language": "python",
     "metadata": {},
     "outputs": []
    },
    {
     "cell_type": "code",
     "collapsed": false,
     "input": [
      "# for auto-reloading extenrnal modules\n",
      "# see http://stackoverflow.com/questions/1907993/autoreload-of-modules-in-ipython\n",
      "%load_ext autoreload\n",
      "%autoreload 2"
     ],
     "language": "python",
     "metadata": {},
     "outputs": []
    },
    {
     "cell_type": "code",
     "collapsed": false,
     "input": [
      "# Asserting the code version this was run\n",
      "!git log -n 1 --format=oneline -- wlu.py \n",
      "!git status -s wlu.py"
     ],
     "language": "python",
     "metadata": {},
     "outputs": []
    },
    {
     "cell_type": "code",
     "collapsed": false,
     "input": [
      "from wlu import Experiment"
     ],
     "language": "python",
     "metadata": {},
     "outputs": []
    },
    {
     "cell_type": "markdown",
     "metadata": {},
     "source": [
      "# Experiment WITH WLU:"
     ]
    },
    {
     "cell_type": "markdown",
     "metadata": {},
     "source": [
      "## #1) thresholds=[0.3,0.5], nr_agents=101, use_wlu=True, alpha=.01, p=.2"
     ]
    },
    {
     "cell_type": "code",
     "collapsed": false,
     "input": [
      "na = 101\n",
      "\n",
      "experiment = Experiment(thresholds=[0.3,0.5], nr_agents=na, debug=False, use_wlu=True, alpha=.01, p=.2)\n",
      "\n",
      "weekly_attendance_data, world_utilities, agent_q_values,rewards, actions = experiment.run()"
     ],
     "language": "python",
     "metadata": {},
     "outputs": []
    },
    {
     "cell_type": "markdown",
     "metadata": {},
     "source": [
      "### Experiment #1 Results:\n",
      "\n",
      "#### Agent Q-Values\n",
      "\n",
      "##### Q-Values for 3 random agents"
     ]
    },
    {
     "cell_type": "code",
     "collapsed": false,
     "input": [
      "chosen_agents_ix = np.random.choice(na, 2)\n",
      "print \"Chosen agents: %s\" % chosen_agents_ix"
     ],
     "language": "python",
     "metadata": {},
     "outputs": []
    },
    {
     "cell_type": "markdown",
     "metadata": {},
     "source": [
      "##### Q-Values for the first 2 agents"
     ]
    },
    {
     "cell_type": "code",
     "collapsed": false,
     "input": [
      "experiment.plot_q_values(agent_q_values[chosen_agents_ix])"
     ],
     "language": "python",
     "metadata": {},
     "outputs": []
    },
    {
     "cell_type": "code",
     "collapsed": false,
     "input": [
      "experiment.plot_rewards(rewards[chosen_agents_ix])"
     ],
     "language": "python",
     "metadata": {},
     "outputs": []
    },
    {
     "cell_type": "code",
     "collapsed": false,
     "input": [
      "experiment.plot_attendances(weekly_attendance_data)"
     ],
     "language": "python",
     "metadata": {},
     "outputs": []
    },
    {
     "cell_type": "markdown",
     "metadata": {},
     "source": [
      "# Experiment WITHOUT WLU"
     ]
    },
    {
     "cell_type": "markdown",
     "metadata": {},
     "source": [
      "## #2) thresholds=[0.3,0.5], nr_agents=101, use_wlu=False, alpha=.01, p=.2"
     ]
    },
    {
     "cell_type": "code",
     "collapsed": false,
     "input": [
      "na = 101\n",
      "\n",
      "experiment = Experiment(thresholds=[0.3,0.5], nr_agents=na, debug=False, use_wlu=False, alpha=.01, p=.2)\n",
      "\n",
      "weekly_attendance_data, world_utilities, agent_q_values, rewards, actions = experiment.run()"
     ],
     "language": "python",
     "metadata": {},
     "outputs": []
    },
    {
     "cell_type": "markdown",
     "metadata": {},
     "source": [
      "### Experiment #2 Results:\n",
      "\n",
      "#### Agent Q-Values\n",
      "\n",
      "##### Q-Values for 2 random agents"
     ]
    },
    {
     "cell_type": "code",
     "collapsed": false,
     "input": [
      "chosen_agents_ix = np.random.choice(na, 2)\n",
      "print \"Chosen agents: %s\" % chosen_agents_ix\n",
      "experiment.plot_q_values(agent_q_values[chosen_agents_ix])"
     ],
     "language": "python",
     "metadata": {},
     "outputs": []
    },
    {
     "cell_type": "code",
     "collapsed": false,
     "input": [
      "experiment.plot_rewards(rewards[chosen_agents_ix])"
     ],
     "language": "python",
     "metadata": {},
     "outputs": []
    },
    {
     "cell_type": "code",
     "collapsed": false,
     "input": [
      "experiment.plot_attendances(weekly_attendance_data)"
     ],
     "language": "python",
     "metadata": {},
     "outputs": []
    }
   ],
   "metadata": {}
  }
 ]
}